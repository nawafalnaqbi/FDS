{
  "nbformat": 4,
  "nbformat_minor": 0,
  "metadata": {
    "colab": {
      "provenance": [],
      "include_colab_link": true
    },
    "kernelspec": {
      "name": "python3",
      "display_name": "Python 3"
    },
    "language_info": {
      "name": "python"
    }
  },
  "cells": [
    {
      "cell_type": "markdown",
      "metadata": {
        "id": "view-in-github",
        "colab_type": "text"
      },
      "source": [
        "<a href=\"https://colab.research.google.com/github/nawafalnaqbi/FDS/blob/main/Nawaf_Alnaqbi_AirQuality_Analysis.ipynb\" target=\"_parent\"><img src=\"https://colab.research.google.com/assets/colab-badge.svg\" alt=\"Open In Colab\"/></a>"
      ]
    },
    {
      "cell_type": "markdown",
      "source": [
        "**In-Class Team-Based Learning Activity** : Analyzing California Air Quality Data **[5 MARKS]**\n",
        "- Objective:\n",
        "    - In this activity, YOU will work in teams to analyze the California Air Quality 2020 dataset. Download it from the following link:\n",
        "    [California Air Quality Data](https://www.kaggle.com/datasets/thaddeussegura/california-air-quality-2020-through-sept10th)\n",
        "\n",
        "    -  columns:\n",
        "      - `Date`: The date of the measurement.\n",
        "      - `Daily Mean PM2.5 Concentration`: Average PM2.5 concentration for the day.\n",
        "      - `AQI`: Air Quality Index derived from PM2.5 levels.\n",
        "      - `CBSA Name`: Core-Based Statistical Area (e.g., Fresno, Riverside).\n",
        "      - `County Name`: County where the measurement was taken.\n",
        "      - Other metadata like `latitude`, `longitude`, and units.\n",
        "    \n",
        "    - You will:\n",
        "      - Explore the dataset to understand its structure.\n",
        "      - Perform operations such as sorting, filtering, and selecting rows to extract meaningful insights.\n",
        "      - Collaborate to answer questions about air quality trends and their implications."
      ],
      "metadata": {
        "id": "mNKyPiwJkPPw"
      }
    },
    {
      "cell_type": "code",
      "execution_count": null,
      "metadata": {
        "id": "IQr9AakVVBpf"
      },
      "outputs": [],
      "source": [
        "from datascience import *\n",
        "import numpy as np"
      ]
    },
    {
      "cell_type": "code",
      "source": [
        "from google.colab import files\n",
        "uploaded = files.upload()"
      ],
      "metadata": {
        "colab": {
          "base_uri": "https://localhost:8080/",
          "height": 73
        },
        "id": "tPnyTFlsVIqj",
        "outputId": "9c8435e1-220d-442b-e555-b2da281935d2"
      },
      "execution_count": null,
      "outputs": [
        {
          "output_type": "display_data",
          "data": {
            "text/plain": [
              "<IPython.core.display.HTML object>"
            ],
            "text/html": [
              "\n",
              "     <input type=\"file\" id=\"files-8ecd897a-451e-4b9c-8e77-aa91154d32ef\" name=\"files[]\" multiple disabled\n",
              "        style=\"border:none\" />\n",
              "     <output id=\"result-8ecd897a-451e-4b9c-8e77-aa91154d32ef\">\n",
              "      Upload widget is only available when the cell has been executed in the\n",
              "      current browser session. Please rerun this cell to enable.\n",
              "      </output>\n",
              "      <script>// Copyright 2017 Google LLC\n",
              "//\n",
              "// Licensed under the Apache License, Version 2.0 (the \"License\");\n",
              "// you may not use this file except in compliance with the License.\n",
              "// You may obtain a copy of the License at\n",
              "//\n",
              "//      http://www.apache.org/licenses/LICENSE-2.0\n",
              "//\n",
              "// Unless required by applicable law or agreed to in writing, software\n",
              "// distributed under the License is distributed on an \"AS IS\" BASIS,\n",
              "// WITHOUT WARRANTIES OR CONDITIONS OF ANY KIND, either express or implied.\n",
              "// See the License for the specific language governing permissions and\n",
              "// limitations under the License.\n",
              "\n",
              "/**\n",
              " * @fileoverview Helpers for google.colab Python module.\n",
              " */\n",
              "(function(scope) {\n",
              "function span(text, styleAttributes = {}) {\n",
              "  const element = document.createElement('span');\n",
              "  element.textContent = text;\n",
              "  for (const key of Object.keys(styleAttributes)) {\n",
              "    element.style[key] = styleAttributes[key];\n",
              "  }\n",
              "  return element;\n",
              "}\n",
              "\n",
              "// Max number of bytes which will be uploaded at a time.\n",
              "const MAX_PAYLOAD_SIZE = 100 * 1024;\n",
              "\n",
              "function _uploadFiles(inputId, outputId) {\n",
              "  const steps = uploadFilesStep(inputId, outputId);\n",
              "  const outputElement = document.getElementById(outputId);\n",
              "  // Cache steps on the outputElement to make it available for the next call\n",
              "  // to uploadFilesContinue from Python.\n",
              "  outputElement.steps = steps;\n",
              "\n",
              "  return _uploadFilesContinue(outputId);\n",
              "}\n",
              "\n",
              "// This is roughly an async generator (not supported in the browser yet),\n",
              "// where there are multiple asynchronous steps and the Python side is going\n",
              "// to poll for completion of each step.\n",
              "// This uses a Promise to block the python side on completion of each step,\n",
              "// then passes the result of the previous step as the input to the next step.\n",
              "function _uploadFilesContinue(outputId) {\n",
              "  const outputElement = document.getElementById(outputId);\n",
              "  const steps = outputElement.steps;\n",
              "\n",
              "  const next = steps.next(outputElement.lastPromiseValue);\n",
              "  return Promise.resolve(next.value.promise).then((value) => {\n",
              "    // Cache the last promise value to make it available to the next\n",
              "    // step of the generator.\n",
              "    outputElement.lastPromiseValue = value;\n",
              "    return next.value.response;\n",
              "  });\n",
              "}\n",
              "\n",
              "/**\n",
              " * Generator function which is called between each async step of the upload\n",
              " * process.\n",
              " * @param {string} inputId Element ID of the input file picker element.\n",
              " * @param {string} outputId Element ID of the output display.\n",
              " * @return {!Iterable<!Object>} Iterable of next steps.\n",
              " */\n",
              "function* uploadFilesStep(inputId, outputId) {\n",
              "  const inputElement = document.getElementById(inputId);\n",
              "  inputElement.disabled = false;\n",
              "\n",
              "  const outputElement = document.getElementById(outputId);\n",
              "  outputElement.innerHTML = '';\n",
              "\n",
              "  const pickedPromise = new Promise((resolve) => {\n",
              "    inputElement.addEventListener('change', (e) => {\n",
              "      resolve(e.target.files);\n",
              "    });\n",
              "  });\n",
              "\n",
              "  const cancel = document.createElement('button');\n",
              "  inputElement.parentElement.appendChild(cancel);\n",
              "  cancel.textContent = 'Cancel upload';\n",
              "  const cancelPromise = new Promise((resolve) => {\n",
              "    cancel.onclick = () => {\n",
              "      resolve(null);\n",
              "    };\n",
              "  });\n",
              "\n",
              "  // Wait for the user to pick the files.\n",
              "  const files = yield {\n",
              "    promise: Promise.race([pickedPromise, cancelPromise]),\n",
              "    response: {\n",
              "      action: 'starting',\n",
              "    }\n",
              "  };\n",
              "\n",
              "  cancel.remove();\n",
              "\n",
              "  // Disable the input element since further picks are not allowed.\n",
              "  inputElement.disabled = true;\n",
              "\n",
              "  if (!files) {\n",
              "    return {\n",
              "      response: {\n",
              "        action: 'complete',\n",
              "      }\n",
              "    };\n",
              "  }\n",
              "\n",
              "  for (const file of files) {\n",
              "    const li = document.createElement('li');\n",
              "    li.append(span(file.name, {fontWeight: 'bold'}));\n",
              "    li.append(span(\n",
              "        `(${file.type || 'n/a'}) - ${file.size} bytes, ` +\n",
              "        `last modified: ${\n",
              "            file.lastModifiedDate ? file.lastModifiedDate.toLocaleDateString() :\n",
              "                                    'n/a'} - `));\n",
              "    const percent = span('0% done');\n",
              "    li.appendChild(percent);\n",
              "\n",
              "    outputElement.appendChild(li);\n",
              "\n",
              "    const fileDataPromise = new Promise((resolve) => {\n",
              "      const reader = new FileReader();\n",
              "      reader.onload = (e) => {\n",
              "        resolve(e.target.result);\n",
              "      };\n",
              "      reader.readAsArrayBuffer(file);\n",
              "    });\n",
              "    // Wait for the data to be ready.\n",
              "    let fileData = yield {\n",
              "      promise: fileDataPromise,\n",
              "      response: {\n",
              "        action: 'continue',\n",
              "      }\n",
              "    };\n",
              "\n",
              "    // Use a chunked sending to avoid message size limits. See b/62115660.\n",
              "    let position = 0;\n",
              "    do {\n",
              "      const length = Math.min(fileData.byteLength - position, MAX_PAYLOAD_SIZE);\n",
              "      const chunk = new Uint8Array(fileData, position, length);\n",
              "      position += length;\n",
              "\n",
              "      const base64 = btoa(String.fromCharCode.apply(null, chunk));\n",
              "      yield {\n",
              "        response: {\n",
              "          action: 'append',\n",
              "          file: file.name,\n",
              "          data: base64,\n",
              "        },\n",
              "      };\n",
              "\n",
              "      let percentDone = fileData.byteLength === 0 ?\n",
              "          100 :\n",
              "          Math.round((position / fileData.byteLength) * 100);\n",
              "      percent.textContent = `${percentDone}% done`;\n",
              "\n",
              "    } while (position < fileData.byteLength);\n",
              "  }\n",
              "\n",
              "  // All done.\n",
              "  yield {\n",
              "    response: {\n",
              "      action: 'complete',\n",
              "    }\n",
              "  };\n",
              "}\n",
              "\n",
              "scope.google = scope.google || {};\n",
              "scope.google.colab = scope.google.colab || {};\n",
              "scope.google.colab._files = {\n",
              "  _uploadFiles,\n",
              "  _uploadFilesContinue,\n",
              "};\n",
              "})(self);\n",
              "</script> "
            ]
          },
          "metadata": {}
        },
        {
          "output_type": "stream",
          "name": "stdout",
          "text": [
            "Saving California_airquality.csv to California_airquality.csv\n"
          ]
        }
      ]
    },
    {
      "cell_type": "markdown",
      "source": [
        "**Step-by-Step Instructions**\n",
        "- **Step 1**: Introduction to the Dataset\n",
        "    - Goal : Familiarize yourself with the dataset and its columns.\n",
        "      - **Task 1.1**: Load the dataset into a `table` and display the first few rows."
      ],
      "metadata": {
        "id": "ijiUwAp3VUvp"
      }
    },
    {
      "cell_type": "code",
      "source": [
        "CA = Table.read_table('California_airquality.csv')"
      ],
      "metadata": {
        "id": "KK0JLdfjlo2w"
      },
      "execution_count": null,
      "outputs": []
    },
    {
      "cell_type": "code",
      "source": [
        "CA.show(5)"
      ],
      "metadata": {
        "colab": {
          "base_uri": "https://localhost:8080/",
          "height": 637
        },
        "collapsed": true,
        "id": "jXUwovWNlsaB",
        "outputId": "6e5b4a2a-22e7-48df-c3c0-2c9c20b5872c"
      },
      "execution_count": null,
      "outputs": [
        {
          "output_type": "display_data",
          "data": {
            "text/plain": [
              "<IPython.core.display.HTML object>"
            ],
            "text/html": [
              "<table border=\"1\" class=\"dataframe\">\n",
              "    <thead>\n",
              "        <tr>\n",
              "            <th>Date</th> <th>Source</th> <th>Site ID</th> <th>POC</th> <th>Daily Mean PM2.5 Concentration</th> <th>UNITS</th> <th>DAILY_AQI_VALUE</th> <th>Site Name</th> <th>DAILY_OBS_COUNT</th> <th>PERCENT_COMPLETE</th> <th>AQS_PARAMETER_CODE</th> <th>AQS_PARAMETER_DESC</th> <th>CBSA_CODE</th> <th>CBSA_NAME</th> <th>STATE_CODE</th> <th>STATE</th> <th>COUNTY_CODE</th> <th>COUNTY</th> <th>SITE_LATITUDE</th> <th>SITE_LONGITUDE</th>\n",
              "        </tr>\n",
              "    </thead>\n",
              "    <tbody>\n",
              "        <tr>\n",
              "            <td>1/1/20</td> <td>AQS   </td> <td>60010007</td> <td>3   </td> <td>8.6                           </td> <td>ug/m3 LC</td> <td>36             </td> <td>Livermore</td> <td>1              </td> <td>100             </td> <td>88101             </td> <td>PM2.5 - Local Conditions</td> <td>41860    </td> <td>San Francisco-Oakland-Hayward, CA</td> <td>6         </td> <td>California</td> <td>1          </td> <td>Alameda</td> <td>37.6875      </td> <td>-121.784      </td>\n",
              "        </tr>\n",
              "        <tr>\n",
              "            <td>1/2/20</td> <td>AQS   </td> <td>60010007</td> <td>3   </td> <td>4.5                           </td> <td>ug/m3 LC</td> <td>19             </td> <td>Livermore</td> <td>1              </td> <td>100             </td> <td>88101             </td> <td>PM2.5 - Local Conditions</td> <td>41860    </td> <td>San Francisco-Oakland-Hayward, CA</td> <td>6         </td> <td>California</td> <td>1          </td> <td>Alameda</td> <td>37.6875      </td> <td>-121.784      </td>\n",
              "        </tr>\n",
              "        <tr>\n",
              "            <td>1/3/20</td> <td>AQS   </td> <td>60010007</td> <td>3   </td> <td>14.2                          </td> <td>ug/m3 LC</td> <td>55             </td> <td>Livermore</td> <td>1              </td> <td>100             </td> <td>88101             </td> <td>PM2.5 - Local Conditions</td> <td>41860    </td> <td>San Francisco-Oakland-Hayward, CA</td> <td>6         </td> <td>California</td> <td>1          </td> <td>Alameda</td> <td>37.6875      </td> <td>-121.784      </td>\n",
              "        </tr>\n",
              "        <tr>\n",
              "            <td>1/4/20</td> <td>AQS   </td> <td>60010007</td> <td>3   </td> <td>10.9                          </td> <td>ug/m3 LC</td> <td>45             </td> <td>Livermore</td> <td>1              </td> <td>100             </td> <td>88101             </td> <td>PM2.5 - Local Conditions</td> <td>41860    </td> <td>San Francisco-Oakland-Hayward, CA</td> <td>6         </td> <td>California</td> <td>1          </td> <td>Alameda</td> <td>37.6875      </td> <td>-121.784      </td>\n",
              "        </tr>\n",
              "        <tr>\n",
              "            <td>1/5/20</td> <td>AQS   </td> <td>60010007</td> <td>3   </td> <td>7.8                           </td> <td>ug/m3 LC</td> <td>33             </td> <td>Livermore</td> <td>1              </td> <td>100             </td> <td>88101             </td> <td>PM2.5 - Local Conditions</td> <td>41860    </td> <td>San Francisco-Oakland-Hayward, CA</td> <td>6         </td> <td>California</td> <td>1          </td> <td>Alameda</td> <td>37.6875      </td> <td>-121.784      </td>\n",
              "        </tr>\n",
              "    </tbody>\n",
              "</table>\n",
              "<p>... (30510 rows omitted)</p>"
            ]
          },
          "metadata": {}
        }
      ]
    },
    {
      "cell_type": "markdown",
      "source": [
        "**Step 2**: Sorting Rows\n",
        "  - Goal : Teach students how to sort rows based on specific criteria.\n",
        "    - **Task 2.1** : Sort the dataset by Daily Mean PM2.5 Concentration in descending order to find the days with the worst air quality."
      ],
      "metadata": {
        "id": "XxWKxrxqVlUL"
      }
    },
    {
      "cell_type": "code",
      "source": [
        "CA_worst_air_quality=CA.sort('Daily Mean PM2.5 Concentration', descending=True)\n",
        "CA_worst_air_quality.show(5)"
      ],
      "metadata": {
        "colab": {
          "base_uri": "https://localhost:8080/",
          "height": 602
        },
        "id": "MmQ2Aaj0lyEl",
        "outputId": "552e01cc-a187-4635-e85d-698c5d53b146"
      },
      "execution_count": null,
      "outputs": [
        {
          "output_type": "display_data",
          "data": {
            "text/plain": [
              "<IPython.core.display.HTML object>"
            ],
            "text/html": [
              "<table border=\"1\" class=\"dataframe\">\n",
              "    <thead>\n",
              "        <tr>\n",
              "            <th>Date</th> <th>Source</th> <th>Site ID</th> <th>POC</th> <th>Daily Mean PM2.5 Concentration</th> <th>UNITS</th> <th>DAILY_AQI_VALUE</th> <th>Site Name</th> <th>DAILY_OBS_COUNT</th> <th>PERCENT_COMPLETE</th> <th>AQS_PARAMETER_CODE</th> <th>AQS_PARAMETER_DESC</th> <th>CBSA_CODE</th> <th>CBSA_NAME</th> <th>STATE_CODE</th> <th>STATE</th> <th>COUNTY_CODE</th> <th>COUNTY</th> <th>SITE_LATITUDE</th> <th>SITE_LONGITUDE</th>\n",
              "        </tr>\n",
              "    </thead>\n",
              "    <tbody>\n",
              "        <tr>\n",
              "            <td>8/21/20</td> <td>AirNow</td> <td>60871005</td> <td>3   </td> <td>378.5                         </td> <td>ug/m3 LC</td> <td>419            </td> <td>San Lorenzo Valley Middle School          </td> <td>1              </td> <td>100             </td> <td>88101             </td> <td>PM2.5 - Local Conditions              </td> <td>42100    </td> <td>Santa Cruz-Watsonville, CA                   </td> <td>6         </td> <td>California</td> <td>87         </td> <td>Santa Cruz     </td> <td>37.0632      </td> <td>-122.083      </td>\n",
              "        </tr>\n",
              "        <tr>\n",
              "            <td>8/20/20</td> <td>AirNow</td> <td>60798002</td> <td>3   </td> <td>304.1                         </td> <td>ug/m3 LC</td> <td>354            </td> <td>Atascadero                                </td> <td>1              </td> <td>100             </td> <td>88101             </td> <td>PM2.5 - Local Conditions              </td> <td>42020    </td> <td>San Luis Obispo-Paso Robles-Arroyo Grande, CA</td> <td>6         </td> <td>California</td> <td>79         </td> <td>San Luis Obispo</td> <td>35.4945      </td> <td>-120.666      </td>\n",
              "        </tr>\n",
              "        <tr>\n",
              "            <td>8/29/20</td> <td>AQS   </td> <td>60631006</td> <td>4   </td> <td>276.8                         </td> <td>ug/m3 LC</td> <td>327            </td> <td>Quincy-N Church Street                    </td> <td>1              </td> <td>100             </td> <td>88502             </td> <td>Acceptable PM2.5 AQI & Speciation Mass</td> <td>nan      </td> <td>nan                                          </td> <td>6         </td> <td>California</td> <td>63         </td> <td>Plumas         </td> <td>39.9396      </td> <td>-120.944      </td>\n",
              "        </tr>\n",
              "        <tr>\n",
              "            <td>9/10/20</td> <td>AirNow</td> <td>60431001</td> <td>3   </td> <td>263.3                         </td> <td>ug/m3 LC</td> <td>314            </td> <td>Yosemite NP-Yosemite Village Vistor Center</td> <td>1              </td> <td>100             </td> <td>88502             </td> <td>Acceptable PM2.5 AQI & Speciation Mass</td> <td>nan      </td> <td>nan                                          </td> <td>6         </td> <td>California</td> <td>43         </td> <td>Mariposa       </td> <td>37.7487      </td> <td>-119.587      </td>\n",
              "        </tr>\n",
              "        <tr>\n",
              "            <td>8/25/20</td> <td>AQS   </td> <td>60631006</td> <td>4   </td> <td>251.5                         </td> <td>ug/m3 LC</td> <td>302            </td> <td>Quincy-N Church Street                    </td> <td>1              </td> <td>100             </td> <td>88502             </td> <td>Acceptable PM2.5 AQI & Speciation Mass</td> <td>nan      </td> <td>nan                                          </td> <td>6         </td> <td>California</td> <td>63         </td> <td>Plumas         </td> <td>39.9396      </td> <td>-120.944      </td>\n",
              "        </tr>\n",
              "    </tbody>\n",
              "</table>\n",
              "<p>... (30510 rows omitted)</p>"
            ]
          },
          "metadata": {}
        }
      ]
    },
    {
      "cell_type": "markdown",
      "source": [
        "**Teams should discuss why certain days might have had poor air quality (e.g., wildfires)!**\n"
      ],
      "metadata": {
        "id": "b5G62deSpXb8"
      }
    },
    {
      "cell_type": "markdown",
      "source": [
        "- **Task 2.2** : Sort the dataset alphabetically by `CBSA_NAME` to group data by region.\n",
        "\n"
      ],
      "metadata": {
        "id": "T0BVOpTko8Lv"
      }
    },
    {
      "cell_type": "code",
      "source": [
        "CBSA_NAME_sort_alphabetically=CA.sort('CBSA_NAME', descending=False)\n",
        "CBSA_NAME_sort_alphabetically.show(5)"
      ],
      "metadata": {
        "colab": {
          "base_uri": "https://localhost:8080/",
          "height": 463
        },
        "id": "07FXRuk1l2h6",
        "outputId": "69110e0f-75e2-4964-e228-a6f8a6398152"
      },
      "execution_count": null,
      "outputs": [
        {
          "output_type": "display_data",
          "data": {
            "text/plain": [
              "<IPython.core.display.HTML object>"
            ],
            "text/html": [
              "<table border=\"1\" class=\"dataframe\">\n",
              "    <thead>\n",
              "        <tr>\n",
              "            <th>Date</th> <th>Source</th> <th>Site ID</th> <th>POC</th> <th>Daily Mean PM2.5 Concentration</th> <th>UNITS</th> <th>DAILY_AQI_VALUE</th> <th>Site Name</th> <th>DAILY_OBS_COUNT</th> <th>PERCENT_COMPLETE</th> <th>AQS_PARAMETER_CODE</th> <th>AQS_PARAMETER_DESC</th> <th>CBSA_CODE</th> <th>CBSA_NAME</th> <th>STATE_CODE</th> <th>STATE</th> <th>COUNTY_CODE</th> <th>COUNTY</th> <th>SITE_LATITUDE</th> <th>SITE_LONGITUDE</th>\n",
              "        </tr>\n",
              "    </thead>\n",
              "    <tbody>\n",
              "        <tr>\n",
              "            <td>1/1/20 </td> <td>AQS   </td> <td>60290010</td> <td>1   </td> <td>36.8                          </td> <td>ug/m3 LC</td> <td>104            </td> <td>Bakersfield-Golden/M St</td> <td>1              </td> <td>100             </td> <td>88101             </td> <td>PM2.5 - Local Conditions</td> <td>12540    </td> <td>Bakersfield, CA</td> <td>6         </td> <td>California</td> <td>29         </td> <td>Kern  </td> <td>35.3856      </td> <td>-119.015      </td>\n",
              "        </tr>\n",
              "        <tr>\n",
              "            <td>1/4/20 </td> <td>AQS   </td> <td>60290010</td> <td>1   </td> <td>23.7                          </td> <td>ug/m3 LC</td> <td>75             </td> <td>Bakersfield-Golden/M St</td> <td>1              </td> <td>100             </td> <td>88101             </td> <td>PM2.5 - Local Conditions</td> <td>12540    </td> <td>Bakersfield, CA</td> <td>6         </td> <td>California</td> <td>29         </td> <td>Kern  </td> <td>35.3856      </td> <td>-119.015      </td>\n",
              "        </tr>\n",
              "        <tr>\n",
              "            <td>1/10/20</td> <td>AQS   </td> <td>60290010</td> <td>1   </td> <td>18.5                          </td> <td>ug/m3 LC</td> <td>64             </td> <td>Bakersfield-Golden/M St</td> <td>1              </td> <td>100             </td> <td>88101             </td> <td>PM2.5 - Local Conditions</td> <td>12540    </td> <td>Bakersfield, CA</td> <td>6         </td> <td>California</td> <td>29         </td> <td>Kern  </td> <td>35.3856      </td> <td>-119.015      </td>\n",
              "        </tr>\n",
              "        <tr>\n",
              "            <td>1/13/20</td> <td>AQS   </td> <td>60290010</td> <td>1   </td> <td>15.1                          </td> <td>ug/m3 LC</td> <td>57             </td> <td>Bakersfield-Golden/M St</td> <td>1              </td> <td>100             </td> <td>88101             </td> <td>PM2.5 - Local Conditions</td> <td>12540    </td> <td>Bakersfield, CA</td> <td>6         </td> <td>California</td> <td>29         </td> <td>Kern  </td> <td>35.3856      </td> <td>-119.015      </td>\n",
              "        </tr>\n",
              "        <tr>\n",
              "            <td>1/16/20</td> <td>AQS   </td> <td>60290010</td> <td>1   </td> <td>21                            </td> <td>ug/m3 LC</td> <td>70             </td> <td>Bakersfield-Golden/M St</td> <td>1              </td> <td>100             </td> <td>88101             </td> <td>PM2.5 - Local Conditions</td> <td>12540    </td> <td>Bakersfield, CA</td> <td>6         </td> <td>California</td> <td>29         </td> <td>Kern  </td> <td>35.3856      </td> <td>-119.015      </td>\n",
              "        </tr>\n",
              "    </tbody>\n",
              "</table>\n",
              "<p>... (30510 rows omitted)</p>"
            ]
          },
          "metadata": {}
        }
      ]
    },
    {
      "cell_type": "markdown",
      "source": [
        "**Step 3**: Selecting Rows\n",
        "  - Goal : Practice filtering rows based on specific conditions.\n",
        "      - **Task 3.1** : Extract rows where the Daily Mean PM2.5 Concentration exceeds 50 µg/m³."
      ],
      "metadata": {
        "id": "H7uw2mCUpJHX"
      }
    },
    {
      "cell_type": "code",
      "source": [
        "CA_above_50=CA.where('Daily Mean PM2.5 Concentration', are.above(50))\n",
        "CA_above_50.show(5)"
      ],
      "metadata": {
        "colab": {
          "base_uri": "https://localhost:8080/",
          "height": 637
        },
        "id": "GlC0wNHEl53Z",
        "outputId": "c236e892-b208-426b-81b7-6ee612e21eac"
      },
      "execution_count": null,
      "outputs": [
        {
          "output_type": "display_data",
          "data": {
            "text/plain": [
              "<IPython.core.display.HTML object>"
            ],
            "text/html": [
              "<table border=\"1\" class=\"dataframe\">\n",
              "    <thead>\n",
              "        <tr>\n",
              "            <th>Date</th> <th>Source</th> <th>Site ID</th> <th>POC</th> <th>Daily Mean PM2.5 Concentration</th> <th>UNITS</th> <th>DAILY_AQI_VALUE</th> <th>Site Name</th> <th>DAILY_OBS_COUNT</th> <th>PERCENT_COMPLETE</th> <th>AQS_PARAMETER_CODE</th> <th>AQS_PARAMETER_DESC</th> <th>CBSA_CODE</th> <th>CBSA_NAME</th> <th>STATE_CODE</th> <th>STATE</th> <th>COUNTY_CODE</th> <th>COUNTY</th> <th>SITE_LATITUDE</th> <th>SITE_LONGITUDE</th>\n",
              "        </tr>\n",
              "    </thead>\n",
              "    <tbody>\n",
              "        <tr>\n",
              "            <td>8/20/20</td> <td>AirNow</td> <td>60010007</td> <td>3   </td> <td>63.4                          </td> <td>ug/m3 LC</td> <td>155            </td> <td>Livermore</td> <td>1              </td> <td>100             </td> <td>88101             </td> <td>PM2.5 - Local Conditions</td> <td>41860    </td> <td>San Francisco-Oakland-Hayward, CA</td> <td>6         </td> <td>California</td> <td>1          </td> <td>Alameda</td> <td>37.6875      </td> <td>-121.784      </td>\n",
              "        </tr>\n",
              "        <tr>\n",
              "            <td>8/21/20</td> <td>AirNow</td> <td>60010007</td> <td>3   </td> <td>54.5                          </td> <td>ug/m3 LC</td> <td>148            </td> <td>Livermore</td> <td>1              </td> <td>100             </td> <td>88101             </td> <td>PM2.5 - Local Conditions</td> <td>41860    </td> <td>San Francisco-Oakland-Hayward, CA</td> <td>6         </td> <td>California</td> <td>1          </td> <td>Alameda</td> <td>37.6875      </td> <td>-121.784      </td>\n",
              "        </tr>\n",
              "        <tr>\n",
              "            <td>8/23/20</td> <td>AirNow</td> <td>60010007</td> <td>3   </td> <td>99.9                          </td> <td>ug/m3 LC</td> <td>174            </td> <td>Livermore</td> <td>1              </td> <td>100             </td> <td>88101             </td> <td>PM2.5 - Local Conditions</td> <td>41860    </td> <td>San Francisco-Oakland-Hayward, CA</td> <td>6         </td> <td>California</td> <td>1          </td> <td>Alameda</td> <td>37.6875      </td> <td>-121.784      </td>\n",
              "        </tr>\n",
              "        <tr>\n",
              "            <td>8/24/20</td> <td>AirNow</td> <td>60010007</td> <td>3   </td> <td>57.9                          </td> <td>ug/m3 LC</td> <td>152            </td> <td>Livermore</td> <td>1              </td> <td>100             </td> <td>88101             </td> <td>PM2.5 - Local Conditions</td> <td>41860    </td> <td>San Francisco-Oakland-Hayward, CA</td> <td>6         </td> <td>California</td> <td>1          </td> <td>Alameda</td> <td>37.6875      </td> <td>-121.784      </td>\n",
              "        </tr>\n",
              "        <tr>\n",
              "            <td>9/10/20</td> <td>AirNow</td> <td>60010007</td> <td>3   </td> <td>53.8                          </td> <td>ug/m3 LC</td> <td>146            </td> <td>Livermore</td> <td>1              </td> <td>100             </td> <td>88101             </td> <td>PM2.5 - Local Conditions</td> <td>41860    </td> <td>San Francisco-Oakland-Hayward, CA</td> <td>6         </td> <td>California</td> <td>1          </td> <td>Alameda</td> <td>37.6875      </td> <td>-121.784      </td>\n",
              "        </tr>\n",
              "    </tbody>\n",
              "</table>\n",
              "<p>... (349 rows omitted)</p>"
            ]
          },
          "metadata": {}
        }
      ]
    },
    {
      "cell_type": "markdown",
      "source": [
        "**Teams should count how many such days occurred and discuss the health implications.**"
      ],
      "metadata": {
        "id": "O7u5UAYkpgkL"
      }
    },
    {
      "cell_type": "markdown",
      "source": [
        "- **Task 3.2** : Find all rows corresponding to `Fresno, CA`."
      ],
      "metadata": {
        "id": "NSrg-lANpkqZ"
      }
    },
    {
      "cell_type": "code",
      "source": [
        "CA_CBSA_NAME_Fr=CA.where('CBSA_NAME', 'Fresno, CA')\n",
        "CA_CBSA_NAME_Fr.show(5)"
      ],
      "metadata": {
        "collapsed": true,
        "colab": {
          "base_uri": "https://localhost:8080/",
          "height": 463
        },
        "id": "9blKgRa2l9z6",
        "outputId": "69782997-c35a-44df-a4a6-b5215964b6de"
      },
      "execution_count": null,
      "outputs": [
        {
          "output_type": "display_data",
          "data": {
            "text/plain": [
              "<IPython.core.display.HTML object>"
            ],
            "text/html": [
              "<table border=\"1\" class=\"dataframe\">\n",
              "    <thead>\n",
              "        <tr>\n",
              "            <th>Date</th> <th>Source</th> <th>Site ID</th> <th>POC</th> <th>Daily Mean PM2.5 Concentration</th> <th>UNITS</th> <th>DAILY_AQI_VALUE</th> <th>Site Name</th> <th>DAILY_OBS_COUNT</th> <th>PERCENT_COMPLETE</th> <th>AQS_PARAMETER_CODE</th> <th>AQS_PARAMETER_DESC</th> <th>CBSA_CODE</th> <th>CBSA_NAME</th> <th>STATE_CODE</th> <th>STATE</th> <th>COUNTY_CODE</th> <th>COUNTY</th> <th>SITE_LATITUDE</th> <th>SITE_LONGITUDE</th>\n",
              "        </tr>\n",
              "    </thead>\n",
              "    <tbody>\n",
              "        <tr>\n",
              "            <td>1/1/20</td> <td>AQS   </td> <td>60190011</td> <td>1   </td> <td>42.3                          </td> <td>ug/m3 LC</td> <td>118            </td> <td>Fresno - Garland</td> <td>1              </td> <td>100             </td> <td>88101             </td> <td>PM2.5 - Local Conditions              </td> <td>23420    </td> <td>Fresno, CA</td> <td>6         </td> <td>California</td> <td>19         </td> <td>Fresno</td> <td>36.7854      </td> <td>-119.773      </td>\n",
              "        </tr>\n",
              "        <tr>\n",
              "            <td>1/2/20</td> <td>AQS   </td> <td>60190011</td> <td>1   </td> <td>35.9                          </td> <td>ug/m3 LC</td> <td>102            </td> <td>Fresno - Garland</td> <td>1              </td> <td>100             </td> <td>88101             </td> <td>PM2.5 - Local Conditions              </td> <td>23420    </td> <td>Fresno, CA</td> <td>6         </td> <td>California</td> <td>19         </td> <td>Fresno</td> <td>36.7854      </td> <td>-119.773      </td>\n",
              "        </tr>\n",
              "        <tr>\n",
              "            <td>1/3/20</td> <td>AQS   </td> <td>60190011</td> <td>1   </td> <td>29.6                          </td> <td>ug/m3 LC</td> <td>88             </td> <td>Fresno - Garland</td> <td>1              </td> <td>100             </td> <td>88101             </td> <td>PM2.5 - Local Conditions              </td> <td>23420    </td> <td>Fresno, CA</td> <td>6         </td> <td>California</td> <td>19         </td> <td>Fresno</td> <td>36.7854      </td> <td>-119.773      </td>\n",
              "        </tr>\n",
              "        <tr>\n",
              "            <td>1/4/20</td> <td>AQS   </td> <td>60190011</td> <td>1   </td> <td>9.4                           </td> <td>ug/m3 LC</td> <td>39             </td> <td>Fresno - Garland</td> <td>1              </td> <td>100             </td> <td>88502             </td> <td>Acceptable PM2.5 AQI & Speciation Mass</td> <td>23420    </td> <td>Fresno, CA</td> <td>6         </td> <td>California</td> <td>19         </td> <td>Fresno</td> <td>36.7854      </td> <td>-119.773      </td>\n",
              "        </tr>\n",
              "        <tr>\n",
              "            <td>1/5/20</td> <td>AQS   </td> <td>60190011</td> <td>1   </td> <td>13.8                          </td> <td>ug/m3 LC</td> <td>55             </td> <td>Fresno - Garland</td> <td>1              </td> <td>100             </td> <td>88101             </td> <td>PM2.5 - Local Conditions              </td> <td>23420    </td> <td>Fresno, CA</td> <td>6         </td> <td>California</td> <td>19         </td> <td>Fresno</td> <td>36.7854      </td> <td>-119.773      </td>\n",
              "        </tr>\n",
              "    </tbody>\n",
              "</table>\n",
              "<p>... (1711 rows omitted)</p>"
            ]
          },
          "metadata": {}
        }
      ]
    },
    {
      "cell_type": "markdown",
      "source": [
        "**Teams should calculate the average PM2.5 concentration for Fresno during this period.**"
      ],
      "metadata": {
        "id": "yPtPXO5npvJH"
      }
    },
    {
      "cell_type": "markdown",
      "source": [
        "**Step 4**: Creating New Columns\n",
        "- Goal : Teach students how to compute new metrics and add them to the table\n",
        "    - **Task 4.1** : Add a column indicating whether the air quality is `\"Good\" (PM2.5 < 12)`, `\"Moderate\" (12 ≤ PM2.5 < 35)`, or `\"Unhealthy\" (PM2.5 ≥ 35)`."
      ],
      "metadata": {
        "id": "n0T0PBUSp0lL"
      }
    },
    {
      "cell_type": "code",
      "source": [
        "def categorize_air_quality(pm25):\n",
        "    if pm25 < 12:\n",
        "        return 'Good'\n",
        "    elif 12 <= pm25 < 35:\n",
        "        return 'Moderate'\n",
        "    else:\n",
        "        return 'Unhealthy'\n",
        "\n",
        "air_quality = CA.apply(categorize_air_quality, 'Daily Mean PM2.5 Concentration')\n",
        "CA_air_quality = CA.with_column('Air Quality', air_quality)\n",
        "CA_air_quality.show(5)"
      ],
      "metadata": {
        "colab": {
          "base_uri": "https://localhost:8080/",
          "height": 637
        },
        "collapsed": true,
        "id": "5V74_N8zmPhZ",
        "outputId": "2c96fe7e-4c22-4eaa-8f81-9c07d34a5a12"
      },
      "execution_count": null,
      "outputs": [
        {
          "output_type": "display_data",
          "data": {
            "text/plain": [
              "<IPython.core.display.HTML object>"
            ],
            "text/html": [
              "<table border=\"1\" class=\"dataframe\">\n",
              "    <thead>\n",
              "        <tr>\n",
              "            <th>Date</th> <th>Source</th> <th>Site ID</th> <th>POC</th> <th>Daily Mean PM2.5 Concentration</th> <th>UNITS</th> <th>DAILY_AQI_VALUE</th> <th>Site Name</th> <th>DAILY_OBS_COUNT</th> <th>PERCENT_COMPLETE</th> <th>AQS_PARAMETER_CODE</th> <th>AQS_PARAMETER_DESC</th> <th>CBSA_CODE</th> <th>CBSA_NAME</th> <th>STATE_CODE</th> <th>STATE</th> <th>COUNTY_CODE</th> <th>COUNTY</th> <th>SITE_LATITUDE</th> <th>SITE_LONGITUDE</th> <th>Air Quality</th>\n",
              "        </tr>\n",
              "    </thead>\n",
              "    <tbody>\n",
              "        <tr>\n",
              "            <td>1/1/20</td> <td>AQS   </td> <td>60010007</td> <td>3   </td> <td>8.6                           </td> <td>ug/m3 LC</td> <td>36             </td> <td>Livermore</td> <td>1              </td> <td>100             </td> <td>88101             </td> <td>PM2.5 - Local Conditions</td> <td>41860    </td> <td>San Francisco-Oakland-Hayward, CA</td> <td>6         </td> <td>California</td> <td>1          </td> <td>Alameda</td> <td>37.6875      </td> <td>-121.784      </td> <td>Good       </td>\n",
              "        </tr>\n",
              "        <tr>\n",
              "            <td>1/2/20</td> <td>AQS   </td> <td>60010007</td> <td>3   </td> <td>4.5                           </td> <td>ug/m3 LC</td> <td>19             </td> <td>Livermore</td> <td>1              </td> <td>100             </td> <td>88101             </td> <td>PM2.5 - Local Conditions</td> <td>41860    </td> <td>San Francisco-Oakland-Hayward, CA</td> <td>6         </td> <td>California</td> <td>1          </td> <td>Alameda</td> <td>37.6875      </td> <td>-121.784      </td> <td>Good       </td>\n",
              "        </tr>\n",
              "        <tr>\n",
              "            <td>1/3/20</td> <td>AQS   </td> <td>60010007</td> <td>3   </td> <td>14.2                          </td> <td>ug/m3 LC</td> <td>55             </td> <td>Livermore</td> <td>1              </td> <td>100             </td> <td>88101             </td> <td>PM2.5 - Local Conditions</td> <td>41860    </td> <td>San Francisco-Oakland-Hayward, CA</td> <td>6         </td> <td>California</td> <td>1          </td> <td>Alameda</td> <td>37.6875      </td> <td>-121.784      </td> <td>Moderate   </td>\n",
              "        </tr>\n",
              "        <tr>\n",
              "            <td>1/4/20</td> <td>AQS   </td> <td>60010007</td> <td>3   </td> <td>10.9                          </td> <td>ug/m3 LC</td> <td>45             </td> <td>Livermore</td> <td>1              </td> <td>100             </td> <td>88101             </td> <td>PM2.5 - Local Conditions</td> <td>41860    </td> <td>San Francisco-Oakland-Hayward, CA</td> <td>6         </td> <td>California</td> <td>1          </td> <td>Alameda</td> <td>37.6875      </td> <td>-121.784      </td> <td>Good       </td>\n",
              "        </tr>\n",
              "        <tr>\n",
              "            <td>1/5/20</td> <td>AQS   </td> <td>60010007</td> <td>3   </td> <td>7.8                           </td> <td>ug/m3 LC</td> <td>33             </td> <td>Livermore</td> <td>1              </td> <td>100             </td> <td>88101             </td> <td>PM2.5 - Local Conditions</td> <td>41860    </td> <td>San Francisco-Oakland-Hayward, CA</td> <td>6         </td> <td>California</td> <td>1          </td> <td>Alameda</td> <td>37.6875      </td> <td>-121.784      </td> <td>Good       </td>\n",
              "        </tr>\n",
              "    </tbody>\n",
              "</table>\n",
              "<p>... (30510 rows omitted)</p>"
            ]
          },
          "metadata": {}
        }
      ]
    },
    {
      "cell_type": "markdown",
      "source": [
        "**Task 4.2** : Calculate the percentage of days in each category for Fresno.\n"
      ],
      "metadata": {
        "id": "2OyYf3eoqH5p"
      }
    },
    {
      "cell_type": "code",
      "source": [
        "CA_air_quality_fresno = CA_air_quality.where('CBSA_NAME', 'Fresno, CA')\n",
        "\n",
        "category_counts = CA_air_quality_fresno.group('Air Quality').with_column('Percentage', CA_air_quality_fresno.group('Air Quality').column('count') / CA_air_quality_fresno.num_rows * 100)\n",
        "\n",
        "category_counts.show(3)"
      ],
      "metadata": {
        "colab": {
          "base_uri": "https://localhost:8080/",
          "height": 143
        },
        "id": "CZ9LEbaXoya3",
        "outputId": "86be75b7-7430-46d2-8c37-48dc9844a27e"
      },
      "execution_count": null,
      "outputs": [
        {
          "output_type": "display_data",
          "data": {
            "text/plain": [
              "<IPython.core.display.HTML object>"
            ],
            "text/html": [
              "<table border=\"1\" class=\"dataframe\">\n",
              "    <thead>\n",
              "        <tr>\n",
              "            <th>Air Quality</th> <th>count</th> <th>Percentage</th>\n",
              "        </tr>\n",
              "    </thead>\n",
              "    <tbody>\n",
              "        <tr>\n",
              "            <td>Good       </td> <td>1259 </td> <td>73.3683   </td>\n",
              "        </tr>\n",
              "        <tr>\n",
              "            <td>Moderate   </td> <td>382  </td> <td>22.2611   </td>\n",
              "        </tr>\n",
              "        <tr>\n",
              "            <td>Unhealthy  </td> <td>75   </td> <td>4.37063   </td>\n",
              "        </tr>\n",
              "    </tbody>\n",
              "</table>"
            ]
          },
          "metadata": {}
        }
      ]
    },
    {
      "cell_type": "markdown",
      "source": [
        "**Step 5**: Group Challenge\n",
        "- Goal :  solve a complex problem.\n",
        "    - **Challenge** : Identify the top 3 regions (CBSA Names) with the highest average PM2.5 concentrations"
      ],
      "metadata": {
        "id": "5S6Kl03nqRwB"
      }
    },
    {
      "cell_type": "code",
      "source": [
        "CA_mean_pm25_by_cbsa = CA.group('CBSA_NAME', np.mean)\n",
        "CA_mean_pm25_by_cbsa2=CA_mean_pm25_by_cbsa.select('CBSA_NAME', 'Daily Mean PM2.5 Concentration mean')\n",
        "CA_mean_pm25_by_cbsa2.show(5)\n",
        "\n",
        "top_3_regions = CA_mean_pm25_by_cbsa2.sort('Daily Mean PM2.5 Concentration mean', descending=True).take(np.arange(3))\n",
        "\n",
        "top_3_regions.show(3)"
      ],
      "metadata": {
        "colab": {
          "base_uri": "https://localhost:8080/",
          "height": 361
        },
        "id": "RJDsWn4bsKTt",
        "outputId": "72c981b5-ba05-46b7-c09d-2c59d9a79ebb"
      },
      "execution_count": null,
      "outputs": [
        {
          "output_type": "display_data",
          "data": {
            "text/plain": [
              "<IPython.core.display.HTML object>"
            ],
            "text/html": [
              "<table border=\"1\" class=\"dataframe\">\n",
              "    <thead>\n",
              "        <tr>\n",
              "            <th>CBSA_NAME</th> <th>Daily Mean PM2.5 Concentration mean</th>\n",
              "        </tr>\n",
              "    </thead>\n",
              "    <tbody>\n",
              "        <tr>\n",
              "            <td>Bakersfield, CA  </td> <td>10.0654                            </td>\n",
              "        </tr>\n",
              "        <tr>\n",
              "            <td>Bishop, CA       </td> <td>7.13315                            </td>\n",
              "        </tr>\n",
              "        <tr>\n",
              "            <td>Chico, CA        </td> <td>9.99505                            </td>\n",
              "        </tr>\n",
              "        <tr>\n",
              "            <td>Clearlake, CA    </td> <td>3.46667                            </td>\n",
              "        </tr>\n",
              "        <tr>\n",
              "            <td>Crescent City, CA</td> <td>6.99727                            </td>\n",
              "        </tr>\n",
              "    </tbody>\n",
              "</table>\n",
              "<p>... (29 rows omitted)</p>"
            ]
          },
          "metadata": {}
        },
        {
          "output_type": "display_data",
          "data": {
            "text/plain": [
              "<IPython.core.display.HTML object>"
            ],
            "text/html": [
              "<table border=\"1\" class=\"dataframe\">\n",
              "    <thead>\n",
              "        <tr>\n",
              "            <th>CBSA_NAME</th> <th>Daily Mean PM2.5 Concentration mean</th>\n",
              "        </tr>\n",
              "    </thead>\n",
              "    <tbody>\n",
              "        <tr>\n",
              "            <td>Hanford-Corcoran, CA   </td> <td>18.794                             </td>\n",
              "        </tr>\n",
              "        <tr>\n",
              "            <td>Visalia-Porterville, CA</td> <td>14.5251                            </td>\n",
              "        </tr>\n",
              "        <tr>\n",
              "            <td>Madera, CA             </td> <td>12.5733                            </td>\n",
              "        </tr>\n",
              "    </tbody>\n",
              "</table>"
            ]
          },
          "metadata": {}
        }
      ]
    },
    {
      "cell_type": "markdown",
      "source": [
        "**Grading Distribution (Out of 5)**\n",
        "- Below is the grading rubric for the tasks in the activity.\n",
        "    - Each task will be graded based on correctness, completeness, and clarity of the solution."
      ],
      "metadata": {
        "id": "K-yne1ppth5c"
      }
    },
    {
      "cell_type": "markdown",
      "source": [
        "![image.png](data:image/png;base64,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)"
      ],
      "metadata": {
        "id": "8EDJLMVJsTco"
      }
    },
    {
      "cell_type": "markdown",
      "source": [
        "# **Submission Instructions**\n",
        "\n"
      ],
      "metadata": {
        "id": "IM9WQy5At_0C"
      }
    },
    {
      "cell_type": "markdown",
      "source": [
        "- **1. File Requirements**\n",
        "  - **File Name** : Save your Jupyter Notebook as Group_Name_AirQuality_Analysis.ipynb. Replace Group_Name with your assigned group name.\n",
        "  - **Self-Contained** : Ensure the notebook is self-contained, meaning it includes all necessary code, outputs, and explanations. Use Markdown cells to describe your steps and findings.\n",
        "  - **Colab Compatibility** : Test that your notebook can be opened and run using \"Open in Colab\" by including a link to your GitHub repository in the notebook's first cell:\n",
        "\n",
        "    - [![Open In Colab](https://colab.research.google.com/assets/colab-badge.svg)](https://colab.research.google.com/github/your_username/your_repo/blob/main/Group_Name_AirQuality_Analysis.ipynb)\n",
        "      - Replace your_username, your_repo, and Group_Name with your actual GitHub username, repository name, and group name.\n",
        "- **2. Group Information**\n",
        "Include the group name and member names at the top of the notebook in a Markdown cell:\n",
        "\n",
        "# Group Name: [Your Group Name]\n",
        "## Members:\n",
        "- Member 1 Name\n",
        "- Member 2 Name\n",
        "- Member 3 Name"
      ],
      "metadata": {
        "id": "jrvvwKT9vp1T"
      }
    },
    {
      "cell_type": "markdown",
      "source": [
        "- **3. Submission Process**\n",
        "  - GitHub Repository :\n",
        "    - Create a public GitHub repository for your group (if not already created)\n",
        "    - Upload your completed Jupyter Notebook (Group_Name_AirQuality_Analysis.ipynb) to the repository.\n",
        "    - Ensure the repository contains a README.md file with the following:\n",
        "      - A brief description of the project.\n",
        "      - Instructions for opening the notebook in Colab.\n",
        "  - Blackboard Submission :\n",
        "    - Submit the link to your GitHub repository on Blackboard.\n",
        "    - Additionally, upload the .ipynb file directly to Blackboard as a backup."
      ],
      "metadata": {
        "id": "6q0xWMiIu9Dg"
      }
    }
  ]
}
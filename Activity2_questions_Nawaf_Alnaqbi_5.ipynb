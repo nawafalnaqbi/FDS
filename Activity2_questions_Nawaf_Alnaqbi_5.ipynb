{
  "nbformat": 4,
  "nbformat_minor": 0,
  "metadata": {
    "colab": {
      "provenance": [],
      "include_colab_link": true
    },
    "kernelspec": {
      "name": "python3",
      "display_name": "Python 3"
    },
    "language_info": {
      "name": "python"
    }
  },
  "cells": [
    {
      "cell_type": "markdown",
      "metadata": {
        "id": "view-in-github",
        "colab_type": "text"
      },
      "source": [
        "<a href=\"https://colab.research.google.com/github/nawafalnaqbi/FDS/blob/main/Activity2_questions_Nawaf_Alnaqbi_5.ipynb\" target=\"_parent\"><img src=\"https://colab.research.google.com/assets/colab-badge.svg\" alt=\"Open In Colab\"/></a>"
      ]
    },
    {
      "cell_type": "markdown",
      "source": [
        "# Activity #2 (5 marks)"
      ],
      "metadata": {
        "id": "9Hr2lLFuZjja"
      }
    },
    {
      "cell_type": "markdown",
      "source": [
        "\n",
        "Class Activity: Analyzing NYC Hyperlocal Air Quality Data with Spatial Join"
      ],
      "metadata": {
        "id": "bEtXiTwI-yIv"
      }
    },
    {
      "cell_type": "markdown",
      "source": [
        "# Objective:\n",
        "- This activity reinforces concepts from Chapters 6 (Tables), 7 (Visualization), 8 (Functions and Tables), and 9 (Randomness). Students will analyze NYC hyperlocal air quality data using Python in a Jupyter Notebook (Google Colab). The focus will be on leveraging the Table abstraction wherever possible. Additionally, students will use spatial join techniques to combine air quality sensor readings with geographic data."
      ],
      "metadata": {
        "id": "6i3-zemYyZAu"
      }
    },
    {
      "cell_type": "markdown",
      "source": [
        "given a csv file containing longitude, latitude , and pm10  columns [Air Quality data](https://raw.githubusercontent.com/IsamAljawarneh/datasets/master/data/NYC_PM.csv) representing readings of low cost air quality sensor mounted on moving vehicles, in addition to a geojson file containing polygons representing administrative divisions of NYC city known as neighbourhoods [nyc_polygon.geojson](https://raw.githubusercontent.com/IsamAljawarneh/datasets/master/data/nyc_polygon.geojson).\n",
        "# Dataset Description\n",
        "- Air Quality Sensor Readings (NYC_PM.csv) :\n",
        "Attributes: SensorID, time, temperature, humidity, pm25,\n",
        "Focus attributes: temperature, humidity, pm1,pm25,pm10,\n",
        "- City Polygons (nyc_polygon.geojson) :\n",
        "Contains polygons representing neighborhoods or boroughs in NYC.\n",
        "Used for spatially joining geographic information with air quality data."
      ],
      "metadata": {
        "id": "MnPCkUN9-lzy"
      }
    },
    {
      "cell_type": "markdown",
      "source": [],
      "metadata": {
        "id": "b4ZJkB2yNm2m"
      }
    },
    {
      "cell_type": "markdown",
      "source": [
        "## **part - A** preprocessing [0 marks]\n",
        "\n",
        "do all tasks and the subtasks!"
      ],
      "metadata": {
        "id": "_kuVRsJkAh9n"
      }
    },
    {
      "cell_type": "markdown",
      "source": [
        "# Onboarding Code Provided\n",
        "- The following code will be provided in an onboarding Jupyter Notebook to help students get started:\n",
        "\n"
      ],
      "metadata": {
        "id": "cXRH1R-SzPAs"
      }
    },
    {
      "cell_type": "code",
      "source": [
        "'''from google.colab import drive\n",
        "drive.mount('/content/drive')'''"
      ],
      "metadata": {
        "colab": {
          "base_uri": "https://localhost:8080/",
          "height": 35
        },
        "id": "R4ArO-FctZIu",
        "outputId": "c9fdaab8-71a3-4cee-813c-214532a70891"
      },
      "execution_count": 1,
      "outputs": [
        {
          "output_type": "execute_result",
          "data": {
            "text/plain": [
              "\"from google.colab import drive\\ndrive.mount('/content/drive')\""
            ],
            "application/vnd.google.colaboratory.intrinsic+json": {
              "type": "string"
            }
          },
          "metadata": {},
          "execution_count": 1
        }
      ]
    },
    {
      "cell_type": "markdown",
      "source": [
        "import necessary libraries"
      ],
      "metadata": {
        "id": "9o9eM8IICM-1"
      }
    },
    {
      "cell_type": "code",
      "source": [
        "import pandas as pd\n",
        "import geopandas as gpd\n",
        "import numpy as np\n",
        "import matplotlib.pyplot as plt"
      ],
      "metadata": {
        "id": "DIyY1q36ta3G"
      },
      "execution_count": 2,
      "outputs": []
    },
    {
      "cell_type": "code",
      "source": [
        "from datascience import *\n",
        "%matplotlib inline\n",
        "#path_data = '../../../assets/data/'\n",
        "import matplotlib.pyplot as plt\n",
        "plt.style.use('fivethirtyeight')\n",
        "import numpy as np"
      ],
      "metadata": {
        "id": "8ipkPRynmWGz"
      },
      "execution_count": 3,
      "outputs": []
    },
    {
      "cell_type": "markdown",
      "source": [
        "###1. Read the CSV file containing PM sensor readings\n",
        " & Read the GeoJSON file containing neighborhood boundaries into a GeoDataFrame"
      ],
      "metadata": {
        "id": "11VvbD-a6ur8"
      }
    },
    {
      "cell_type": "code",
      "source": [
        "\n",
        "# Step 1: Read the CSV file containing PM10 sensor readings\n",
        "pm10_data = pd.read_csv('https://raw.githubusercontent.com/IsamAljawarneh/datasets/master/data/NYC_PM.csv',index_col=False)\n",
        "\n",
        "# Step 2: Read the GeoJSON file containing neighborhood boundaries into a GeoDataFrame\n",
        "nyc_neighborhoods = gpd.read_file('https://raw.githubusercontent.com/IsamAljawarneh/datasets/master/data/nyc_polygon.geojson')\n"
      ],
      "metadata": {
        "id": "CYk7KfJqueQW"
      },
      "execution_count": 4,
      "outputs": []
    },
    {
      "cell_type": "code",
      "source": [
        "#pm10_data.dtypes"
      ],
      "metadata": {
        "id": "VAMLIDAKu289"
      },
      "execution_count": 5,
      "outputs": []
    },
    {
      "cell_type": "markdown",
      "source": [
        "### 2. convert the csv into a geodataframe and join it (sjoin) with the geojson, assign a coordinate reference system (CRS) the csv geodataframe which is identical to that of the geojson file, then perform the join, the result is a geodataframe, convert it to dataframe, and select pm10, neighborhood columns in a new dataframe"
      ],
      "metadata": {
        "id": "tKKuGLIl682s"
      }
    },
    {
      "cell_type": "code",
      "source": [
        "pm10_gdf = gpd.GeoDataFrame(pm10_data, geometry=gpd.points_from_xy(pm10_data.longitude, pm10_data.latitude))\n",
        "merged_data = gpd.sjoin(pm10_gdf, nyc_neighborhoods, how='inner', predicate='within')"
      ],
      "metadata": {
        "id": "LDdZ3JM9vABk",
        "colab": {
          "base_uri": "https://localhost:8080/"
        },
        "outputId": "eab0588d-573a-4785-84c4-519f3479815a"
      },
      "execution_count": 6,
      "outputs": [
        {
          "output_type": "stream",
          "name": "stderr",
          "text": [
            "<ipython-input-6-d43866676e2a>:2: UserWarning: CRS mismatch between the CRS of left geometries and the CRS of right geometries.\n",
            "Use `to_crs()` to reproject one of the input geometries to match the CRS of the other.\n",
            "\n",
            "Left CRS: None\n",
            "Right CRS: EPSG:4326\n",
            "\n",
            "  merged_data = gpd.sjoin(pm10_gdf, nyc_neighborhoods, how='inner', predicate='within')\n"
          ]
        }
      ]
    },
    {
      "cell_type": "code",
      "source": [
        "#merged_data.dtypes"
      ],
      "metadata": {
        "id": "4YTL56jpvPDW"
      },
      "execution_count": 7,
      "outputs": []
    },
    {
      "cell_type": "code",
      "source": [
        "pollution_data = merged_data[['pm10','neighborhood']]"
      ],
      "metadata": {
        "id": "1XPU0kp4hwnf"
      },
      "execution_count": 8,
      "outputs": []
    },
    {
      "cell_type": "code",
      "source": [
        "pollution_data.shape[0]"
      ],
      "metadata": {
        "colab": {
          "base_uri": "https://localhost:8080/"
        },
        "id": "T3gx_my1iAoi",
        "outputId": "0258ca4e-aa3b-4a8d-ddd8-053497d08e20"
      },
      "execution_count": 9,
      "outputs": [
        {
          "output_type": "execute_result",
          "data": {
            "text/plain": [
              "118495"
            ]
          },
          "metadata": {},
          "execution_count": 9
        }
      ]
    },
    {
      "cell_type": "code",
      "source": [
        "#merged_data.rename(columns={'neighborhood': 'neighborhood1'}, inplace=True)"
      ],
      "metadata": {
        "id": "P4M9bOYqy09e"
      },
      "execution_count": 10,
      "outputs": []
    },
    {
      "cell_type": "code",
      "source": [
        "type(pollution_data)"
      ],
      "metadata": {
        "colab": {
          "base_uri": "https://localhost:8080/",
          "height": 204
        },
        "id": "a8C-waCXk8JE",
        "outputId": "cee7f365-3517-4dfc-b6b6-74141a3f7a9e"
      },
      "execution_count": 11,
      "outputs": [
        {
          "output_type": "execute_result",
          "data": {
            "text/plain": [
              "pandas.core.frame.DataFrame"
            ],
            "text/html": [
              "<div style=\"max-width:800px; border: 1px solid var(--colab-border-color);\"><style>\n",
              "      pre.function-repr-contents {\n",
              "        overflow-x: auto;\n",
              "        padding: 8px 12px;\n",
              "        max-height: 500px;\n",
              "      }\n",
              "\n",
              "      pre.function-repr-contents.function-repr-contents-collapsed {\n",
              "        cursor: pointer;\n",
              "        max-height: 100px;\n",
              "      }\n",
              "    </style>\n",
              "    <pre style=\"white-space: initial; background:\n",
              "         var(--colab-secondary-surface-color); padding: 8px 12px;\n",
              "         border-bottom: 1px solid var(--colab-border-color);\"><b>pandas.core.frame.DataFrame</b><br/>def __init__(data=None, index: Axes | None=None, columns: Axes | None=None, dtype: Dtype | None=None, copy: bool | None=None) -&gt; None</pre><pre class=\"function-repr-contents function-repr-contents-collapsed\" style=\"\"><a class=\"filepath\" style=\"display:none\" href=\"#\">/usr/local/lib/python3.11/dist-packages/pandas/core/frame.py</a>Two-dimensional, size-mutable, potentially heterogeneous tabular data.\n",
              "\n",
              "Data structure also contains labeled axes (rows and columns).\n",
              "Arithmetic operations align on both row and column labels. Can be\n",
              "thought of as a dict-like container for Series objects. The primary\n",
              "pandas data structure.\n",
              "\n",
              "Parameters\n",
              "----------\n",
              "data : ndarray (structured or homogeneous), Iterable, dict, or DataFrame\n",
              "    Dict can contain Series, arrays, constants, dataclass or list-like objects. If\n",
              "    data is a dict, column order follows insertion-order. If a dict contains Series\n",
              "    which have an index defined, it is aligned by its index. This alignment also\n",
              "    occurs if data is a Series or a DataFrame itself. Alignment is done on\n",
              "    Series/DataFrame inputs.\n",
              "\n",
              "    If data is a list of dicts, column order follows insertion-order.\n",
              "\n",
              "index : Index or array-like\n",
              "    Index to use for resulting frame. Will default to RangeIndex if\n",
              "    no indexing information part of input data and no index provided.\n",
              "columns : Index or array-like\n",
              "    Column labels to use for resulting frame when data does not have them,\n",
              "    defaulting to RangeIndex(0, 1, 2, ..., n). If data contains column labels,\n",
              "    will perform column selection instead.\n",
              "dtype : dtype, default None\n",
              "    Data type to force. Only a single dtype is allowed. If None, infer.\n",
              "copy : bool or None, default None\n",
              "    Copy data from inputs.\n",
              "    For dict data, the default of None behaves like ``copy=True``.  For DataFrame\n",
              "    or 2d ndarray input, the default of None behaves like ``copy=False``.\n",
              "    If data is a dict containing one or more Series (possibly of different dtypes),\n",
              "    ``copy=False`` will ensure that these inputs are not copied.\n",
              "\n",
              "    .. versionchanged:: 1.3.0\n",
              "\n",
              "See Also\n",
              "--------\n",
              "DataFrame.from_records : Constructor from tuples, also record arrays.\n",
              "DataFrame.from_dict : From dicts of Series, arrays, or dicts.\n",
              "read_csv : Read a comma-separated values (csv) file into DataFrame.\n",
              "read_table : Read general delimited file into DataFrame.\n",
              "read_clipboard : Read text from clipboard into DataFrame.\n",
              "\n",
              "Notes\n",
              "-----\n",
              "Please reference the :ref:`User Guide &lt;basics.dataframe&gt;` for more information.\n",
              "\n",
              "Examples\n",
              "--------\n",
              "Constructing DataFrame from a dictionary.\n",
              "\n",
              "&gt;&gt;&gt; d = {&#x27;col1&#x27;: [1, 2], &#x27;col2&#x27;: [3, 4]}\n",
              "&gt;&gt;&gt; df = pd.DataFrame(data=d)\n",
              "&gt;&gt;&gt; df\n",
              "   col1  col2\n",
              "0     1     3\n",
              "1     2     4\n",
              "\n",
              "Notice that the inferred dtype is int64.\n",
              "\n",
              "&gt;&gt;&gt; df.dtypes\n",
              "col1    int64\n",
              "col2    int64\n",
              "dtype: object\n",
              "\n",
              "To enforce a single dtype:\n",
              "\n",
              "&gt;&gt;&gt; df = pd.DataFrame(data=d, dtype=np.int8)\n",
              "&gt;&gt;&gt; df.dtypes\n",
              "col1    int8\n",
              "col2    int8\n",
              "dtype: object\n",
              "\n",
              "Constructing DataFrame from a dictionary including Series:\n",
              "\n",
              "&gt;&gt;&gt; d = {&#x27;col1&#x27;: [0, 1, 2, 3], &#x27;col2&#x27;: pd.Series([2, 3], index=[2, 3])}\n",
              "&gt;&gt;&gt; pd.DataFrame(data=d, index=[0, 1, 2, 3])\n",
              "   col1  col2\n",
              "0     0   NaN\n",
              "1     1   NaN\n",
              "2     2   2.0\n",
              "3     3   3.0\n",
              "\n",
              "Constructing DataFrame from numpy ndarray:\n",
              "\n",
              "&gt;&gt;&gt; df2 = pd.DataFrame(np.array([[1, 2, 3], [4, 5, 6], [7, 8, 9]]),\n",
              "...                    columns=[&#x27;a&#x27;, &#x27;b&#x27;, &#x27;c&#x27;])\n",
              "&gt;&gt;&gt; df2\n",
              "   a  b  c\n",
              "0  1  2  3\n",
              "1  4  5  6\n",
              "2  7  8  9\n",
              "\n",
              "Constructing DataFrame from a numpy ndarray that has labeled columns:\n",
              "\n",
              "&gt;&gt;&gt; data = np.array([(1, 2, 3), (4, 5, 6), (7, 8, 9)],\n",
              "...                 dtype=[(&quot;a&quot;, &quot;i4&quot;), (&quot;b&quot;, &quot;i4&quot;), (&quot;c&quot;, &quot;i4&quot;)])\n",
              "&gt;&gt;&gt; df3 = pd.DataFrame(data, columns=[&#x27;c&#x27;, &#x27;a&#x27;])\n",
              "...\n",
              "&gt;&gt;&gt; df3\n",
              "   c  a\n",
              "0  3  1\n",
              "1  6  4\n",
              "2  9  7\n",
              "\n",
              "Constructing DataFrame from dataclass:\n",
              "\n",
              "&gt;&gt;&gt; from dataclasses import make_dataclass\n",
              "&gt;&gt;&gt; Point = make_dataclass(&quot;Point&quot;, [(&quot;x&quot;, int), (&quot;y&quot;, int)])\n",
              "&gt;&gt;&gt; pd.DataFrame([Point(0, 0), Point(0, 3), Point(2, 3)])\n",
              "   x  y\n",
              "0  0  0\n",
              "1  0  3\n",
              "2  2  3\n",
              "\n",
              "Constructing DataFrame from Series/DataFrame:\n",
              "\n",
              "&gt;&gt;&gt; ser = pd.Series([1, 2, 3], index=[&quot;a&quot;, &quot;b&quot;, &quot;c&quot;])\n",
              "&gt;&gt;&gt; df = pd.DataFrame(data=ser, index=[&quot;a&quot;, &quot;c&quot;])\n",
              "&gt;&gt;&gt; df\n",
              "   0\n",
              "a  1\n",
              "c  3\n",
              "\n",
              "&gt;&gt;&gt; df1 = pd.DataFrame([1, 2, 3], index=[&quot;a&quot;, &quot;b&quot;, &quot;c&quot;], columns=[&quot;x&quot;])\n",
              "&gt;&gt;&gt; df2 = pd.DataFrame(data=df1, index=[&quot;a&quot;, &quot;c&quot;])\n",
              "&gt;&gt;&gt; df2\n",
              "   x\n",
              "a  1\n",
              "c  3</pre>\n",
              "      <script>\n",
              "      if (google.colab.kernel.accessAllowed && google.colab.files && google.colab.files.view) {\n",
              "        for (const element of document.querySelectorAll('.filepath')) {\n",
              "          element.style.display = 'block'\n",
              "          element.onclick = (event) => {\n",
              "            event.preventDefault();\n",
              "            event.stopPropagation();\n",
              "            google.colab.files.view(element.textContent, 509);\n",
              "          };\n",
              "        }\n",
              "      }\n",
              "      for (const element of document.querySelectorAll('.function-repr-contents')) {\n",
              "        element.onclick = (event) => {\n",
              "          event.preventDefault();\n",
              "          event.stopPropagation();\n",
              "          element.classList.toggle('function-repr-contents-collapsed');\n",
              "        };\n",
              "      }\n",
              "      </script>\n",
              "      </div>"
            ]
          },
          "metadata": {},
          "execution_count": 11
        }
      ]
    },
    {
      "cell_type": "markdown",
      "source": [
        "3. you need to convert</h1></section> from dataframe to Datascience Table. Use the following format: ```Table.from_df(df, keep_index=False)``` read more here\n",
        "[create DS Table from DF](https://www.data8.org/datascience/_autosummary/datascience.tables.Table.from_df.html)\n",
        "\n",
        "**N.B.** <font color='red'>NOW, perform all tasks using the table abstraction as we have learned in the class!</font>"
      ],
      "metadata": {
        "id": "ajH-jZyp8neJ"
      }
    },
    {
      "cell_type": "markdown",
      "source": [
        "the following is the opposite:\n",
        "\n",
        "[Table.to_df](https://www.data8.org/datascience/_autosummary/datascience.tables.Table.to_df.html)"
      ],
      "metadata": {
        "id": "ansU7tkQ9cj5"
      }
    },
    {
      "cell_type": "markdown",
      "source": [
        "what is the maximum pm10 value"
      ],
      "metadata": {
        "id": "2zHvKSpo7nX0"
      }
    },
    {
      "cell_type": "code",
      "source": [
        "pollution_data['pm10'].max()"
      ],
      "metadata": {
        "colab": {
          "base_uri": "https://localhost:8080/"
        },
        "id": "A-Ikgdphzdha",
        "outputId": "1d53cce3-0a05-4531-9c3e-7cac63eabc9e"
      },
      "execution_count": 12,
      "outputs": [
        {
          "output_type": "execute_result",
          "data": {
            "text/plain": [
              "87341.71"
            ]
          },
          "metadata": {},
          "execution_count": 12
        }
      ]
    },
    {
      "cell_type": "markdown",
      "source": [
        "what is the maximum pm10 value"
      ],
      "metadata": {
        "id": "RgKB2UJo7rWW"
      }
    },
    {
      "cell_type": "code",
      "source": [
        "pollution_data['pm10'].min()"
      ],
      "metadata": {
        "colab": {
          "base_uri": "https://localhost:8080/"
        },
        "id": "qqANkwbXzmF5",
        "outputId": "241ad4cb-858a-459a-e763-74e932eb87db"
      },
      "execution_count": 13,
      "outputs": [
        {
          "output_type": "execute_result",
          "data": {
            "text/plain": [
              "0.0"
            ]
          },
          "metadata": {},
          "execution_count": 13
        }
      ]
    },
    {
      "cell_type": "code",
      "source": [
        "joined_table = Table().from_df(pollution_data)"
      ],
      "metadata": {
        "id": "zsjLIScVmM9a"
      },
      "execution_count": 14,
      "outputs": []
    },
    {
      "cell_type": "markdown",
      "source": [
        "show the first few rows of the table?"
      ],
      "metadata": {
        "id": "KsUXysj_B1T9"
      }
    },
    {
      "cell_type": "code",
      "source": [
        "joined_table.show(2)"
      ],
      "metadata": {
        "colab": {
          "base_uri": "https://localhost:8080/",
          "height": 141
        },
        "id": "lhgoak8vzEfS",
        "outputId": "22ac95e2-0dba-4d69-9ef7-5825ed76bb18"
      },
      "execution_count": 15,
      "outputs": [
        {
          "output_type": "display_data",
          "data": {
            "text/plain": [
              "<IPython.core.display.HTML object>"
            ],
            "text/html": [
              "<table border=\"1\" class=\"dataframe\">\n",
              "    <thead>\n",
              "        <tr>\n",
              "            <th>pm10</th> <th>neighborhood</th>\n",
              "        </tr>\n",
              "    </thead>\n",
              "    <tbody>\n",
              "        <tr>\n",
              "            <td>11.35</td> <td>Bronx Park  </td>\n",
              "        </tr>\n",
              "        <tr>\n",
              "            <td>1.18 </td> <td>Bronx Park  </td>\n",
              "        </tr>\n",
              "    </tbody>\n",
              "</table>\n",
              "<p>... (118493 rows omitted)</p>"
            ]
          },
          "metadata": {}
        }
      ]
    },
    {
      "cell_type": "markdown",
      "source": [
        "print minimum and maximum pm10 values?"
      ],
      "metadata": {
        "id": "zgAZOxbYB56N"
      }
    },
    {
      "cell_type": "code",
      "source": [
        "pm10 = joined_table.column('pm10')\n",
        "min(pm10), max(pm10)"
      ],
      "metadata": {
        "colab": {
          "base_uri": "https://localhost:8080/"
        },
        "id": "19ncrqo0y8l5",
        "outputId": "841f0eec-6456-48e8-9bbe-65b2fef245f8"
      },
      "execution_count": 16,
      "outputs": [
        {
          "output_type": "execute_result",
          "data": {
            "text/plain": [
              "(0.0, 87341.710000000006)"
            ]
          },
          "metadata": {},
          "execution_count": 16
        }
      ]
    },
    {
      "cell_type": "markdown",
      "source": [
        "#Instructions for Students\n",
        "-You task is to analyze NYC hyperlocal air quality data using the provided dataset. Complete the following tasks in your Jupyter Notebook. Each task is worth 1 mark , for a total of 5 marks . Use the Table abstraction wherever possible."
      ],
      "metadata": {
        "id": "kkbu-cal0QRc"
      }
    },
    {
      "cell_type": "markdown",
      "source": [
        "# Tasks"
      ],
      "metadata": {
        "id": "lNeAe-ZH0eL2"
      }
    },
    {
      "cell_type": "markdown",
      "source": [
        "###Task 1: Explore the Joined Data Using Tables (1 Mark)\n",
        "- Display the first 5 rows of the joined_table using .show().\n",
        "- Print the number of rows and columns in the table.\n",
        "- Identify any missing values in the table and handle them appropriately (e.g., drop rows with missing values or fill them with a default value)."
      ],
      "metadata": {
        "id": "TdamjDqe7vYk"
      }
    },
    {
      "cell_type": "code",
      "source": [
        "pollution_data = merged_data[['pm10','neighborhood']]\n",
        "joined_table = Table().from_df(pollution_data)"
      ],
      "metadata": {
        "id": "gzPZ97vcqVko"
      },
      "execution_count": 17,
      "outputs": []
    },
    {
      "cell_type": "code",
      "source": [
        "# - Display the first 5 rows of the joined_table using .show().\n",
        "\n",
        "joined_table.show(5)"
      ],
      "metadata": {
        "colab": {
          "base_uri": "https://localhost:8080/",
          "height": 236
        },
        "id": "1GmX42M3mYUH",
        "outputId": "312dcba5-f9d8-491c-ad79-f4215fad11d7"
      },
      "execution_count": 18,
      "outputs": [
        {
          "output_type": "display_data",
          "data": {
            "text/plain": [
              "<IPython.core.display.HTML object>"
            ],
            "text/html": [
              "<table border=\"1\" class=\"dataframe\">\n",
              "    <thead>\n",
              "        <tr>\n",
              "            <th>pm10</th> <th>neighborhood</th>\n",
              "        </tr>\n",
              "    </thead>\n",
              "    <tbody>\n",
              "        <tr>\n",
              "            <td>11.35</td> <td>Bronx Park  </td>\n",
              "        </tr>\n",
              "        <tr>\n",
              "            <td>1.18 </td> <td>Bronx Park  </td>\n",
              "        </tr>\n",
              "        <tr>\n",
              "            <td>0.76 </td> <td>Bronx Park  </td>\n",
              "        </tr>\n",
              "        <tr>\n",
              "            <td>47.36</td> <td>Bronx Park  </td>\n",
              "        </tr>\n",
              "        <tr>\n",
              "            <td>6.18 </td> <td>Bronx Park  </td>\n",
              "        </tr>\n",
              "    </tbody>\n",
              "</table>\n",
              "<p>... (118490 rows omitted)</p>"
            ]
          },
          "metadata": {}
        }
      ]
    },
    {
      "cell_type": "code",
      "source": [
        "# - Print the number of rows and columns in the table.\n",
        "\n",
        "print(\"Number of rows: \", joined_table.num_rows)\n",
        "print(\"Number of columns \", joined_table.num_columns)"
      ],
      "metadata": {
        "colab": {
          "base_uri": "https://localhost:8080/"
        },
        "id": "V57tKAtzmt9y",
        "outputId": "3ee7044a-f65a-4c51-c976-12eb5e8b59f1"
      },
      "execution_count": 19,
      "outputs": [
        {
          "output_type": "stream",
          "name": "stdout",
          "text": [
            "Number of rows:  118495\n",
            "Number of columns  2\n"
          ]
        }
      ]
    },
    {
      "cell_type": "code",
      "source": [
        "# - Identify any missing values in the table and handle them appropriately (e.g., drop rows with missing values or fill them with a default value).\n",
        "\n",
        "print(\"Rows before dropping missing values:\", joined_table.num_rows)\n",
        "cleaned_table = joined_table.where('pm10', are.above_or_equal_to(0)).where('neighborhood', are.not_equal_to(None))\n",
        "print(\"Rows after dropping missing values:\", cleaned_table.num_rows)"
      ],
      "metadata": {
        "colab": {
          "base_uri": "https://localhost:8080/"
        },
        "id": "iY2N4ai_nD3j",
        "outputId": "46f56319-0aa2-4d8e-99a3-11606a6f8ce1"
      },
      "execution_count": 20,
      "outputs": [
        {
          "output_type": "stream",
          "name": "stdout",
          "text": [
            "Rows before dropping missing values: 118495\n",
            "Rows after dropping missing values: 118495\n"
          ]
        }
      ]
    },
    {
      "cell_type": "markdown",
      "source": [
        "# Task 2: Create Summary Statistics Using Table Operations (1 Mark)\n",
        "\n",
        "- Compute summary statistics (mean, median, min, max) for the attributes temperature, humidity, and pm25 using table operations like .column() and .apply().\n",
        "- Group the data by borough and calculate the average pm25 levels for each borough using .group() or .pivot().\n",
        "- Display the results in a new table."
      ],
      "metadata": {
        "id": "XTjfxfG209Ia"
      }
    },
    {
      "cell_type": "code",
      "source": [
        "# - Compute summary statistics (mean, median, min, max) for the attributes temperature, humidity, and pm25 using table operations like .column() and .apply()\n",
        "\n",
        "# Select only the relevant columns from merged_data\n",
        "pollution_data_statistics = merged_data[['temperature', 'humidity', 'pm25']]\n",
        "\n",
        "# Convert DataFrame to DataScience Table\n",
        "joined_table_statistics = Table().from_df(pollution_data_statistics)\n",
        "\n",
        "attributes=['temperature', 'humidity', 'pm25']\n",
        "\n",
        "def median(vals):\n",
        "    vals = sorted(vals)\n",
        "    mid = len(vals) // 2\n",
        "    return (vals[mid - 1] + vals[mid]) / 2 if len(vals) % 2 == 0 else vals[mid]\n",
        "\n",
        "summary_table = Table().with_columns(\n",
        "    'Attribute', attributes,\n",
        "    'Mean', [joined_table_statistics.column(attr).mean() for attr in attributes],\n",
        "    'Median', [median(joined_table_statistics.column(attr)) for attr in attributes],\n",
        "    'Min', [joined_table_statistics.column(attr).min() for attr in attributes],\n",
        "    'Max', [joined_table_statistics.column(attr).max() for attr in attributes]\n",
        ")\n",
        "\n",
        "summary_table.show()"
      ],
      "metadata": {
        "id": "TCo9NLQkss0V",
        "colab": {
          "base_uri": "https://localhost:8080/",
          "height": 143
        },
        "outputId": "491e0fdb-f33f-46b1-f8ca-a9cd6825d2e5"
      },
      "execution_count": 21,
      "outputs": [
        {
          "output_type": "display_data",
          "data": {
            "text/plain": [
              "<IPython.core.display.HTML object>"
            ],
            "text/html": [
              "<table border=\"1\" class=\"dataframe\">\n",
              "    <thead>\n",
              "        <tr>\n",
              "            <th>Attribute</th> <th>Mean</th> <th>Median</th> <th>Min</th> <th>Max</th>\n",
              "        </tr>\n",
              "    </thead>\n",
              "    <tbody>\n",
              "        <tr>\n",
              "            <td>temperature</td> <td>8.24158</td> <td>7.2   </td> <td>-7.9</td> <td>10471  </td>\n",
              "        </tr>\n",
              "        <tr>\n",
              "            <td>humidity   </td> <td>50.1549</td> <td>46.2  </td> <td>0   </td> <td>104.2  </td>\n",
              "        </tr>\n",
              "        <tr>\n",
              "            <td>pm25       </td> <td>7.37452</td> <td>3.02  </td> <td>0   </td> <td>3267.02</td>\n",
              "        </tr>\n",
              "    </tbody>\n",
              "</table>"
            ]
          },
          "metadata": {}
        }
      ]
    },
    {
      "cell_type": "code",
      "source": [
        "# - Group the data by borough and calculate the average pm25 levels for each borough using .group() or .pivot().\n",
        "\n",
        "# Select only the relevant columns from merged_data\n",
        "pollution_data_borough_pm25 = merged_data[['pm25', 'borough']]\n",
        "\n",
        "# Convert DataFrame to DataScience Table\n",
        "joined_table_borough_pm25  = Table().from_df(pollution_data_borough_pm25)\n",
        "\n",
        "# Group by borough and compute the average pm25 using Table's built-in mean() function\n",
        "avg_pm25_by_borough = joined_table_borough_pm25.group(\"borough\", lambda x: Table().with_column(\"x\", x).column(\"x\").mean())"
      ],
      "metadata": {
        "id": "iQQ9FWjGxU9K"
      },
      "execution_count": 24,
      "outputs": []
    },
    {
      "cell_type": "code",
      "source": [
        "# - Display the results in a new table\n",
        "avg_pm25_by_borough.show()"
      ],
      "metadata": {
        "colab": {
          "base_uri": "https://localhost:8080/",
          "height": 175
        },
        "id": "lOiaDABu13I4",
        "outputId": "fa2150e2-0abe-4b3b-d13b-b81be058d34f"
      },
      "execution_count": 25,
      "outputs": [
        {
          "output_type": "display_data",
          "data": {
            "text/plain": [
              "<IPython.core.display.HTML object>"
            ],
            "text/html": [
              "<table border=\"1\" class=\"dataframe\">\n",
              "    <thead>\n",
              "        <tr>\n",
              "            <th>borough</th> <th>pm25</th>\n",
              "        </tr>\n",
              "    </thead>\n",
              "    <tbody>\n",
              "        <tr>\n",
              "            <td>Bronx    </td> <td>7.795  </td>\n",
              "        </tr>\n",
              "        <tr>\n",
              "            <td>Brooklyn </td> <td>1.99695</td>\n",
              "        </tr>\n",
              "        <tr>\n",
              "            <td>Manhattan</td> <td>2.37332</td>\n",
              "        </tr>\n",
              "        <tr>\n",
              "            <td>Queens   </td> <td>2.07253</td>\n",
              "        </tr>\n",
              "    </tbody>\n",
              "</table>"
            ]
          },
          "metadata": {}
        }
      ]
    },
    {
      "cell_type": "markdown",
      "source": [
        "# Task 3: Visualize the Data Using Table-Based Plots (1 Mark)\n",
        "\n",
        "- Create a bar chart showing the average pm25 levels for each borough using .barh().\n",
        "- Create a scatter plot to visualize the relationship between temperature and pm25 using .scatter(). Add appropriate labels and a title to the plot.\n",
        "- Create a histogram of humidity values across all neighborhoods using .hist()."
      ],
      "metadata": {
        "id": "2SD9uVHI1oNW"
      }
    },
    {
      "cell_type": "code",
      "source": [
        "# - Create a bar chart showing the average pm25 levels for each borough using .barh().\n",
        "\n",
        "avg_pm25_by_borough.barh(\"borough\", \"pm25\")"
      ],
      "metadata": {
        "colab": {
          "base_uri": "https://localhost:8080/",
          "height": 410
        },
        "id": "lz6LB7t9_Ldq",
        "outputId": "8c60c168-2d64-4d01-e43b-93cd516149cd"
      },
      "execution_count": 26,
      "outputs": [
        {
          "output_type": "display_data",
          "data": {
            "text/plain": [
              "<Figure size 600x400 with 1 Axes>"
            ],
            "image/png": "[encoded data removed]"
          },
          "metadata": {}
        }
      ]
    },
    {
      "cell_type": "code",
      "source": [
        "# - Create a scatter plot to visualize the relationship between temperature and pm25 using .scatter(). Add appropriate labels and a title to the plot.*\n",
        "\n",
        "# Select only the relevant columns from merged_data\n",
        "pollution_data_temperature_pm25 = merged_data[['temperature', 'pm25']]\n",
        "\n",
        "# Convert DataFrame to DataScience Table\n",
        "joined_table_temperature_pm25  = Table().from_df(pollution_data_temperature_pm25)\n",
        "\n",
        "# Print the title separately\n",
        "print(\"Temperature vs. PM2.5\")\n",
        "\n",
        "# Create scatter plot\n",
        "joined_table_temperature_pm25.scatter(\"temperature\", \"pm25\")"
      ],
      "metadata": {
        "colab": {
          "base_uri": "https://localhost:8080/",
          "height": 508
        },
        "id": "Sd0hDyDn4BP0",
        "outputId": "150d215c-699e-4a30-99c1-6b743e7632bb"
      },
      "execution_count": 27,
      "outputs": [
        {
          "output_type": "stream",
          "name": "stdout",
          "text": [
            "Temperature vs. PM2.5\n"
          ]
        },
        {
          "output_type": "display_data",
          "data": {
            "text/plain": [
              "<Figure size 500x500 with 1 Axes>"
            ],
            "image/png": "[encoded data removed]"
          },
          "metadata": {}
        }
      ]
    },
    {
      "cell_type": "code",
      "source": [
        "#* Adding the title using the Matplotlib\n",
        "joined_table_temperature_pm25.scatter(\"temperature\", \"pm25\")\n",
        "plt.title(\"Temperature vs. PM2.5\")"
      ],
      "metadata": {
        "colab": {
          "base_uri": "https://localhost:8080/",
          "height": 538
        },
        "id": "mv7XosU7FJ-F",
        "outputId": "0a18e302-6a3d-44d2-8aa7-1ed2f05aa596"
      },
      "execution_count": 39,
      "outputs": [
        {
          "output_type": "execute_result",
          "data": {
            "text/plain": [
              "Text(0.5, 1.0, 'Temperature vs. PM2.5')"
            ]
          },
          "metadata": {},
          "execution_count": 39
        },
        {
          "output_type": "display_data",
          "data": {
            "text/plain": [
              "<Figure size 500x500 with 1 Axes>"
            ],
            "image/png": "[encoded data removed]"
          },
          "metadata": {}
        }
      ]
    },
    {
      "cell_type": "code",
      "source": [
        "# Here we have an example of removing outliers for better visualization.\n",
        "# Create a new table with temperature between 0 and 1000 and PM2.5 between 0 and 1000.\n",
        "filtered_table = joined_table_temperature_pm25.where(\"temperature\", are.between(0, 1000)).where(\"pm25\", are.between(0, 1000))\n",
        "\n",
        "# Print the title for the filtered data plot.\n",
        "print(\"Filtered Data: Temperature between 0 and 1000 and PM2.5 between 0 and 1000\")\n",
        "\n",
        "# Create a scatter plot using the filtered table.\n",
        "filtered_table.scatter(\"temperature\", \"pm25\")"
      ],
      "metadata": {
        "colab": {
          "base_uri": "https://localhost:8080/",
          "height": 508
        },
        "id": "nwRyF7_NqpFC",
        "outputId": "55af7c9a-0f28-4656-8b1b-3b924fa4e15a"
      },
      "execution_count": 45,
      "outputs": [
        {
          "output_type": "stream",
          "name": "stdout",
          "text": [
            "Filtered Data: Temperature between 0 and 1000 and PM2.5 between 0 and 1000\n"
          ]
        },
        {
          "output_type": "display_data",
          "data": {
            "text/plain": [
              "<Figure size 500x500 with 1 Axes>"
            ],
            "image/png": "[encoded data removed]"
          },
          "metadata": {}
        }
      ]
    },
    {
      "cell_type": "code",
      "source": [
        "# - Create a histogram of humidity values across all neighborhoods using .hist().\n",
        "\n",
        "# Select only the relevant columns from merged_data\n",
        "pollution_data_humidity = merged_data[['humidity']]\n",
        "\n",
        "# Convert DataFrame to DataScience Table\n",
        "joined_table_humidity  = Table().from_df(pollution_data_humidity)\n",
        "\n",
        "joined_table_humidity.hist(\"humidity\")"
      ],
      "metadata": {
        "colab": {
          "base_uri": "https://localhost:8080/",
          "height": 410
        },
        "id": "UF7Db-SoG8Nk",
        "outputId": "7d00c580-90c0-41d4-8cf6-511f143b70c6"
      },
      "execution_count": 29,
      "outputs": [
        {
          "output_type": "display_data",
          "data": {
            "text/plain": [
              "<Figure size 600x400 with 1 Axes>"
            ],
            "image/png": "[encoded data removed]"
          },
          "metadata": {}
        }
      ]
    },
    {
      "cell_type": "markdown",
      "source": [
        "# Task 4: Define and Use Functions with Tables (1 Mark)\n",
        "\n",
        "- Write a function calculate_pm25_category(pm25) that categorizes PM2.5 levels as follows:\n",
        "\"Good\" if pm25 < 12\n",
        "\"Moderate\" if 12 <= pm25 < 35\n",
        "\"Unhealthy\" if pm25 >= 35\n",
        "- Apply this function to the pm25 column in the table using .apply() to create a new column called PM25_Category.\n",
        "- Count the number of sensors in each PM2.5 category and display the results using .group().\n"
      ],
      "metadata": {
        "id": "xTWFUDGX1v1F"
      }
    },
    {
      "cell_type": "code",
      "source": [
        "# - Write a function calculate_pm25_category(pm25) that categorizes PM2.5 levels as follows: \"Good\" if pm25 < 12 \"Moderate\" if 12 <= pm25 < 35 \"Unhealthy\" if pm25 >= 35\n",
        "def calculate_pm25_category(pm25):\n",
        "    if pm25 < 12:\n",
        "        return \"Good\"\n",
        "    elif pm25 < 35:\n",
        "        return \"Moderate\"\n",
        "    else:\n",
        "        return \"Unhealthy\"\n",
        "\n",
        "# - Apply this function to the pm25 column in the table using .apply() to create a new column called PM25_Category.\n",
        "\n",
        "# Select only the relevant columns from merged_data\n",
        "pollution_pm25_category = merged_data[['pm25']]\n",
        "\n",
        "# Convert DataFrame to DataScience Table\n",
        "joined_table_pm25_category = Table().from_df(pollution_pm25_category)\n",
        "\n",
        "pm25_categories = joined_table_pm25_category.apply(calculate_pm25_category, \"pm25\")\n",
        "\n",
        "# Add the new column \"PM25_Category\" to the table.\n",
        "joined_table_with_category = joined_table_pm25_category.with_column(\"PM25_Category\", pm25_categories)\n",
        "\n",
        "# - Count the number of sensors in each PM2.5 category and display the results using .group().\n",
        "\n",
        "category_counts = joined_table_with_category.group(\"PM25_Category\", len)\n",
        "category_counts.show()\n"
      ],
      "metadata": {
        "colab": {
          "base_uri": "https://localhost:8080/",
          "height": 143
        },
        "id": "r5nDAaB4JbJq",
        "outputId": "037e3ea5-723b-4b1e-9ab6-54a9d8df4bce"
      },
      "execution_count": 30,
      "outputs": [
        {
          "output_type": "display_data",
          "data": {
            "text/plain": [
              "<IPython.core.display.HTML object>"
            ],
            "text/html": [
              "<table border=\"1\" class=\"dataframe\">\n",
              "    <thead>\n",
              "        <tr>\n",
              "            <th>PM25_Category</th> <th>pm25 len</th>\n",
              "        </tr>\n",
              "    </thead>\n",
              "    <tbody>\n",
              "        <tr>\n",
              "            <td>Good         </td> <td>101851  </td>\n",
              "        </tr>\n",
              "        <tr>\n",
              "            <td>Moderate     </td> <td>12651   </td>\n",
              "        </tr>\n",
              "        <tr>\n",
              "            <td>Unhealthy    </td> <td>3993    </td>\n",
              "        </tr>\n",
              "    </tbody>\n",
              "</table>"
            ]
          },
          "metadata": {}
        }
      ]
    },
    {
      "cell_type": "markdown",
      "source": [
        "# Task 5: Simulate Random Sampling Using Tables (1 Mark)\n",
        "- Randomly sample 10% of the rows from the table without replacement using .sample().\n",
        "- Calculate the mean pm25 level for the sampled data.\n",
        "- Repeat the random sampling process 100 times and store the mean pm25 values from each iteration in a list.\n",
        "- Create a histogram of the 100 mean pm25 values to visualize the distribution of sample means."
      ],
      "metadata": {
        "id": "QPc8TD9i2CCu"
      }
    },
    {
      "cell_type": "code",
      "source": [
        "# - Randomly sample 10% of the rows from the table without replacement using .sample()\n",
        "\n",
        "# Determine the number of rows to sample (10% of the total rows)\n",
        "sample_size = int(joined_table_pm25_category.num_rows * 0.1)\n",
        "\n",
        "# List to store the mean pm25 from each sampled iteration\n",
        "sample_means = []\n",
        "\n",
        "# - Calculate the mean pm25 level for the sampled data.\n",
        "# - Repeat the random sampling process 100 times and store the mean pm25 values from each iteration in a list.\n",
        "\n",
        "# Repeat the random sampling process 100 times\n",
        "for _ in range(100):\n",
        "    # Randomly sample 10% of the rows without replacement\n",
        "    sample_table = joined_table_pm25_category.sample(sample_size)\n",
        "\n",
        "    # Calculate the mean of the 'pm25' column using built‐in functions\n",
        "    mean_pm25 = sum(sample_table.column(\"pm25\")) / sample_table.num_rows\n",
        "    sample_means.append(mean_pm25)\n",
        "\n",
        "# Create a new Table from the sample means\n",
        "means_table = Table().with_column(\"mean_pm25\", sample_means)\n",
        "\n",
        "# - Create a histogram of the 100 mean pm25 values to visualize the distribution of sample means.\n",
        "\n",
        "# Histogram of the sample means using the table's hist() method*\n",
        "means_table.hist(\"mean_pm25\", bins=15)"
      ],
      "metadata": {
        "colab": {
          "base_uri": "https://localhost:8080/",
          "height": 411
        },
        "id": "q63FHPp1MGus",
        "outputId": "1d6f7bad-93b9-4b79-8b17-670fe105e7bf"
      },
      "execution_count": 31,
      "outputs": [
        {
          "output_type": "display_data",
          "data": {
            "text/plain": [
              "<Figure size 600x400 with 1 Axes>"
            ],
            "image/png": "[encoded data removed]"
          },
          "metadata": {}
        }
      ]
    },
    {
      "cell_type": "code",
      "source": [
        "#* Adding the title using the Matplotlib\n",
        "means_table.hist(\"mean_pm25\", bins=15)\n",
        "plt.title(\"Distribution of 100 Sample Mean pm25 Values\")"
      ],
      "metadata": {
        "colab": {
          "base_uri": "https://localhost:8080/",
          "height": 458
        },
        "id": "y_2w2MjTKTwU",
        "outputId": "50d5b35c-8b94-4421-dfdd-60044cab98ab"
      },
      "execution_count": 32,
      "outputs": [
        {
          "output_type": "execute_result",
          "data": {
            "text/plain": [
              "Text(0.5, 1.0, 'Distribution of 100 Sample Mean pm25 Values')"
            ]
          },
          "metadata": {},
          "execution_count": 32
        },
        {
          "output_type": "display_data",
          "data": {
            "text/plain": [
              "<Figure size 600x400 with 1 Axes>"
            ],
            "image/png": "[encoded data removed]"
          },
          "metadata": {}
        }
      ]
    },
    {
      "cell_type": "markdown",
      "source": [
        "# Submission Guidelines\n",
        "- Add a \"Open in Colab\" button at the top of your notebook using the following Markdown code:\n",
        "[![Open In Colab](https://colab.research.google.com/assets/colab-badge.svg)](https://colab.research.google.com/github/your-repo-path/notebook.ipynb)\n",
        "\n",
        "- Upload your completed Jupyter Notebook to a GitHub repository.\n",
        "- Submit the link to your GitHub repository in the Blackboard LMS along with the Jupyter solution file.\n",
        "- <font color = red size = 6> ATTENTION!!! </font> Students are encouraged to work on groups, however the submission should be individual and each student should have her/his own unique final assignment solution, which is to be submitted in BB"
      ],
      "metadata": {
        "id": "kM16Gy602H1X"
      }
    },
    {
      "cell_type": "markdown",
      "source": [
        "# Grading Rubric\n",
        "- Each task is worth 1 mark , based on the following criteria:\n",
        "\n",
        "- Correctness : The solution produces the expected output using the Table abstraction .\n",
        "- Clarity : Code is well-organized, readable, and includes comments explaining key steps.\n",
        "- Creativity : Visualizations and analyses are presented in an engaging and insightful manner."
      ],
      "metadata": {
        "id": "dY2-OB4A2huX"
      }
    },
    {
      "cell_type": "markdown",
      "source": [
        "# Hints for Success\n",
        "- Use the Table abstraction methods like .select(), .where(), .group(), .apply(), and .sample() for data manipulation.\n",
        "- Refer to the slides and examples from book Chapters 6, 7, 8, and 9 for guidance on tables, functions, visualizations, and randomness.\n",
        "- Test your code frequently to ensure it runs without errors."
      ],
      "metadata": {
        "id": "0GlfWQnV2r9v"
      }
    }
  ]
}
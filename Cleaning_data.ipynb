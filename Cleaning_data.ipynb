{
  "nbformat": 4,
  "nbformat_minor": 0,
  "metadata": {
    "colab": {
      "provenance": [],
      "include_colab_link": true
    },
    "kernelspec": {
      "name": "python3",
      "display_name": "Python 3"
    },
    "language_info": {
      "name": "python"
    }
  },
  "cells": [
    {
      "cell_type": "markdown",
      "metadata": {
        "id": "view-in-github",
        "colab_type": "text"
      },
      "source": [
        "<a href=\"https://colab.research.google.com/github/nawafalnaqbi/FDS/blob/main/Cleaning_data.ipynb\" target=\"_parent\"><img src=\"https://colab.research.google.com/assets/colab-badge.svg\" alt=\"Open In Colab\"/></a>"
      ]
    },
    {
      "cell_type": "markdown",
      "source": [
        "File Upload:\n",
        "The files.upload() function prompts you to select the 19 CSV files. They should follow the naming pattern \"chicago_eclipse_data_part_X.csv\".\n"
      ],
      "metadata": {
        "id": "ZxgVSxvt3Kjy"
      }
    },
    {
      "cell_type": "code",
      "source": [
        "# Import Google Colab file upload functionality\n",
        "from google.colab import files\n",
        "uploaded = files.upload()  # Use the file chooser to upload all CSV parts"
      ],
      "metadata": {
        "colab": {
          "base_uri": "https://localhost:8080/",
          "height": 145
        },
        "id": "yS18ia_yumNm",
        "outputId": "9ec1cb5b-fd41-46e9-c325-b09a65ecf45a"
      },
      "execution_count": 1,
      "outputs": [
        {
          "output_type": "display_data",
          "data": {
            "text/plain": [
              "<IPython.core.display.HTML object>"
            ],
            "text/html": [
              "\n",
              "     <input type=\"file\" id=\"files-694b9b83-7337-4437-b631-afa1c69acd5e\" name=\"files[]\" multiple disabled\n",
              "        style=\"border:none\" />\n",
              "     <output id=\"result-694b9b83-7337-4437-b631-afa1c69acd5e\">\n",
              "      Upload widget is only available when the cell has been executed in the\n",
              "      current browser session. Please rerun this cell to enable.\n",
              "      </output>\n",
              "      <script>// Copyright 2017 Google LLC\n",
              "//\n",
              "// Licensed under the Apache License, Version 2.0 (the \"License\");\n",
              "// you may not use this file except in compliance with the License.\n",
              "// You may obtain a copy of the License at\n",
              "//\n",
              "//      http://www.apache.org/licenses/LICENSE-2.0\n",
              "//\n",
              "// Unless required by applicable law or agreed to in writing, software\n",
              "// distributed under the License is distributed on an \"AS IS\" BASIS,\n",
              "// WITHOUT WARRANTIES OR CONDITIONS OF ANY KIND, either express or implied.\n",
              "// See the License for the specific language governing permissions and\n",
              "// limitations under the License.\n",
              "\n",
              "/**\n",
              " * @fileoverview Helpers for google.colab Python module.\n",
              " */\n",
              "(function(scope) {\n",
              "function span(text, styleAttributes = {}) {\n",
              "  const element = document.createElement('span');\n",
              "  element.textContent = text;\n",
              "  for (const key of Object.keys(styleAttributes)) {\n",
              "    element.style[key] = styleAttributes[key];\n",
              "  }\n",
              "  return element;\n",
              "}\n",
              "\n",
              "// Max number of bytes which will be uploaded at a time.\n",
              "const MAX_PAYLOAD_SIZE = 100 * 1024;\n",
              "\n",
              "function _uploadFiles(inputId, outputId) {\n",
              "  const steps = uploadFilesStep(inputId, outputId);\n",
              "  const outputElement = document.getElementById(outputId);\n",
              "  // Cache steps on the outputElement to make it available for the next call\n",
              "  // to uploadFilesContinue from Python.\n",
              "  outputElement.steps = steps;\n",
              "\n",
              "  return _uploadFilesContinue(outputId);\n",
              "}\n",
              "\n",
              "// This is roughly an async generator (not supported in the browser yet),\n",
              "// where there are multiple asynchronous steps and the Python side is going\n",
              "// to poll for completion of each step.\n",
              "// This uses a Promise to block the python side on completion of each step,\n",
              "// then passes the result of the previous step as the input to the next step.\n",
              "function _uploadFilesContinue(outputId) {\n",
              "  const outputElement = document.getElementById(outputId);\n",
              "  const steps = outputElement.steps;\n",
              "\n",
              "  const next = steps.next(outputElement.lastPromiseValue);\n",
              "  return Promise.resolve(next.value.promise).then((value) => {\n",
              "    // Cache the last promise value to make it available to the next\n",
              "    // step of the generator.\n",
              "    outputElement.lastPromiseValue = value;\n",
              "    return next.value.response;\n",
              "  });\n",
              "}\n",
              "\n",
              "/**\n",
              " * Generator function which is called between each async step of the upload\n",
              " * process.\n",
              " * @param {string} inputId Element ID of the input file picker element.\n",
              " * @param {string} outputId Element ID of the output display.\n",
              " * @return {!Iterable<!Object>} Iterable of next steps.\n",
              " */\n",
              "function* uploadFilesStep(inputId, outputId) {\n",
              "  const inputElement = document.getElementById(inputId);\n",
              "  inputElement.disabled = false;\n",
              "\n",
              "  const outputElement = document.getElementById(outputId);\n",
              "  outputElement.innerHTML = '';\n",
              "\n",
              "  const pickedPromise = new Promise((resolve) => {\n",
              "    inputElement.addEventListener('change', (e) => {\n",
              "      resolve(e.target.files);\n",
              "    });\n",
              "  });\n",
              "\n",
              "  const cancel = document.createElement('button');\n",
              "  inputElement.parentElement.appendChild(cancel);\n",
              "  cancel.textContent = 'Cancel upload';\n",
              "  const cancelPromise = new Promise((resolve) => {\n",
              "    cancel.onclick = () => {\n",
              "      resolve(null);\n",
              "    };\n",
              "  });\n",
              "\n",
              "  // Wait for the user to pick the files.\n",
              "  const files = yield {\n",
              "    promise: Promise.race([pickedPromise, cancelPromise]),\n",
              "    response: {\n",
              "      action: 'starting',\n",
              "    }\n",
              "  };\n",
              "\n",
              "  cancel.remove();\n",
              "\n",
              "  // Disable the input element since further picks are not allowed.\n",
              "  inputElement.disabled = true;\n",
              "\n",
              "  if (!files) {\n",
              "    return {\n",
              "      response: {\n",
              "        action: 'complete',\n",
              "      }\n",
              "    };\n",
              "  }\n",
              "\n",
              "  for (const file of files) {\n",
              "    const li = document.createElement('li');\n",
              "    li.append(span(file.name, {fontWeight: 'bold'}));\n",
              "    li.append(span(\n",
              "        `(${file.type || 'n/a'}) - ${file.size} bytes, ` +\n",
              "        `last modified: ${\n",
              "            file.lastModifiedDate ? file.lastModifiedDate.toLocaleDateString() :\n",
              "                                    'n/a'} - `));\n",
              "    const percent = span('0% done');\n",
              "    li.appendChild(percent);\n",
              "\n",
              "    outputElement.appendChild(li);\n",
              "\n",
              "    const fileDataPromise = new Promise((resolve) => {\n",
              "      const reader = new FileReader();\n",
              "      reader.onload = (e) => {\n",
              "        resolve(e.target.result);\n",
              "      };\n",
              "      reader.readAsArrayBuffer(file);\n",
              "    });\n",
              "    // Wait for the data to be ready.\n",
              "    let fileData = yield {\n",
              "      promise: fileDataPromise,\n",
              "      response: {\n",
              "        action: 'continue',\n",
              "      }\n",
              "    };\n",
              "\n",
              "    // Use a chunked sending to avoid message size limits. See b/62115660.\n",
              "    let position = 0;\n",
              "    do {\n",
              "      const length = Math.min(fileData.byteLength - position, MAX_PAYLOAD_SIZE);\n",
              "      const chunk = new Uint8Array(fileData, position, length);\n",
              "      position += length;\n",
              "\n",
              "      const base64 = btoa(String.fromCharCode.apply(null, chunk));\n",
              "      yield {\n",
              "        response: {\n",
              "          action: 'append',\n",
              "          file: file.name,\n",
              "          data: base64,\n",
              "        },\n",
              "      };\n",
              "\n",
              "      let percentDone = fileData.byteLength === 0 ?\n",
              "          100 :\n",
              "          Math.round((position / fileData.byteLength) * 100);\n",
              "      percent.textContent = `${percentDone}% done`;\n",
              "\n",
              "    } while (position < fileData.byteLength);\n",
              "  }\n",
              "\n",
              "  // All done.\n",
              "  yield {\n",
              "    response: {\n",
              "      action: 'complete',\n",
              "    }\n",
              "  };\n",
              "}\n",
              "\n",
              "scope.google = scope.google || {};\n",
              "scope.google.colab = scope.google.colab || {};\n",
              "scope.google.colab._files = {\n",
              "  _uploadFiles,\n",
              "  _uploadFilesContinue,\n",
              "};\n",
              "})(self);\n",
              "</script> "
            ]
          },
          "metadata": {}
        },
        {
          "output_type": "stream",
          "name": "stdout",
          "text": [
            "Saving chicago_eclipse_data_part_1.csv to chicago_eclipse_data_part_1.csv\n",
            "Saving chicago_eclipse_data_part_2.csv to chicago_eclipse_data_part_2.csv\n",
            "Saving chicago_eclipse_data_part_3.csv to chicago_eclipse_data_part_3.csv\n"
          ]
        }
      ]
    },
    {
      "cell_type": "markdown",
      "source": [
        "Looping Through Files:\n",
        "A for loop iterates from 1 to 19, constructing the filename for each part, reading it into a Table, and appending it to the list tables.\n",
        "\n",
        "Merging Tables:\n",
        "The first table in the list is used as the base, and the remaining tables are appended one by one using the append() method.\n",
        "\n",
        "Displaying the Result:\n",
        "The final merged table is displayed, allowing you to review the combined dataset.\n",
        "\n",
        "Run this code in your Colab notebook, and you'll have a single merged table containing all 19 parts for further analysis."
      ],
      "metadata": {
        "id": "IPUwlmkR26yJ"
      }
    },
    {
      "cell_type": "code",
      "source": [
        "# Import necessary modules\n",
        "from datascience import Table\n",
        "\n",
        "# Initialize an empty list to hold each Table\n",
        "tables = []\n",
        "\n",
        "# Loop through file parts 1 to 19 and read each CSV file into a Table\n",
        "for i in range(1, 3):\n",
        "    filename = f'chicago_eclipse_data_part_{i}.csv'\n",
        "    print(f\"Reading {filename}...\")\n",
        "    t = Table.read_table(filename)\n",
        "    tables.append(t)\n",
        "\n",
        "# Merge all tables by appending them together.\n",
        "# Start with the first table and then append the rest one by one.\n",
        "merged_table = tables[0]\n",
        "for t in tables[1:]:\n",
        "    merged_table = merged_table.append(t)\n",
        "\n",
        "# Display the merged table\n",
        "merged_table\n"
      ],
      "metadata": {
        "id": "1pk10aU-2jhJ",
        "outputId": "bbcf7e65-b9c7-438d-bddf-c80241ca1b62",
        "colab": {
          "base_uri": "https://localhost:8080/",
          "height": 622
        }
      },
      "execution_count": 4,
      "outputs": [
        {
          "output_type": "stream",
          "name": "stdout",
          "text": [
            "Reading chicago_eclipse_data_part_1.csv...\n",
            "Reading chicago_eclipse_data_part_2.csv...\n"
          ]
        },
        {
          "output_type": "execute_result",
          "data": {
            "text/plain": [
              "City    | DeviceId | LocationName          | Latitude | Longitude | ReadingDateTimeUTC  | PM25    | CalibratedPM25 | CalibratedO3 | CalibratedNO2 | CO       | Temperature | Humidity | BatteryLevel | PercentBattery | CellSignal\n",
              "Chicago | 2002     | State & Garfield (SB) | 41.7949  | -87.6259  | 2021-06-20 00:03:00 | 5.56109 | nan            | nan          | nan           | 0.12358  | 27.3835     | 55.1285  | 4.23719      | 93.9648        | -76\n",
              "Chicago | 2002     | State & Garfield (SB) | 41.7949  | -87.6259  | 2021-06-20 00:08:10 | 6.63391 | nan            | nan          | nan           | 0.132103 | 27.0791     | 55.0598  | 4.23609      | 93.9648        | -81\n",
              "Chicago | 2002     | State & Garfield (SB) | 41.7949  | -87.6259  | 2021-06-20 00:13:20 | 4.06871 | nan            | nan          | nan           | 0.131126 | 27.0791     | 55.0354  | 4.23641      | 93.9648        | -80\n",
              "Chicago | 2002     | State & Garfield (SB) | 41.7949  | -87.6259  | 2021-06-20 00:18:30 | 6.3517  | nan            | nan          | nan           | 0.138784 | 26.9456     | 54.6326  | 4.23609      | 93.8633        | -82\n",
              "Chicago | 2002     | State & Garfield (SB) | 41.7949  | -87.6259  | 2021-06-20 00:23:40 | 9.57407 | nan            | nan          | nan           | 0.41307  | 26.8281     | 53.9078  | 4.23594      | 93.8633        | -81\n",
              "Chicago | 2002     | State & Garfield (SB) | 41.7949  | -87.6259  | 2021-06-20 00:28:50 | 6.02794 | nan            | nan          | nan           | 0.157761 | 26.7667     | 58.0338  | 4.23609      | 93.8633        | -82\n",
              "Chicago | 2002     | State & Garfield (SB) | 41.7949  | -87.6259  | 2021-06-20 00:34:00 | 3.61224 | nan            | nan          | nan           | 0.115831 | 26.3367     | 56.1356  | 4.23625      | 93.8633        | -81\n",
              "Chicago | 2002     | State & Garfield (SB) | 41.7949  | -87.6259  | 2021-06-20 00:39:10 | 3.75591 | nan            | nan          | nan           | 0.122269 | 26.2032     | 55.838   | 4.22625      | 93.8633        | -81\n",
              "Chicago | 2002     | State & Garfield (SB) | 41.7949  | -87.6259  | 2021-06-20 00:44:20 | 6.00689 | nan            | nan          | nan           | 0.184926 | 26.1712     | 55.6427  | 4.23547      | 93.8633        | -80\n",
              "Chicago | 2002     | State & Garfield (SB) | 41.7949  | -87.6259  | 2021-06-20 00:49:30 | 8.50949 | nan            | nan          | nan           | 0.11234  | 26.2032     | 55.4581  | 4.23609      | 93.8633        | -80\n",
              "... (259052 rows omitted)"
            ],
            "text/html": [
              "<table border=\"1\" class=\"dataframe\">\n",
              "    <thead>\n",
              "        <tr>\n",
              "            <th>City</th> <th>DeviceId</th> <th>LocationName</th> <th>Latitude</th> <th>Longitude</th> <th>ReadingDateTimeUTC</th> <th>PM25</th> <th>CalibratedPM25</th> <th>CalibratedO3</th> <th>CalibratedNO2</th> <th>CO</th> <th>Temperature</th> <th>Humidity</th> <th>BatteryLevel</th> <th>PercentBattery</th> <th>CellSignal</th>\n",
              "        </tr>\n",
              "    </thead>\n",
              "    <tbody>\n",
              "        <tr>\n",
              "            <td>Chicago</td> <td>2002    </td> <td>State & Garfield (SB)</td> <td>41.7949 </td> <td>-87.6259 </td> <td>2021-06-20 00:03:00</td> <td>5.56109</td> <td>nan           </td> <td>nan         </td> <td>nan          </td> <td>0.12358 </td> <td>27.3835    </td> <td>55.1285 </td> <td>4.23719     </td> <td>93.9648       </td> <td>-76       </td>\n",
              "        </tr>\n",
              "        <tr>\n",
              "            <td>Chicago</td> <td>2002    </td> <td>State & Garfield (SB)</td> <td>41.7949 </td> <td>-87.6259 </td> <td>2021-06-20 00:08:10</td> <td>6.63391</td> <td>nan           </td> <td>nan         </td> <td>nan          </td> <td>0.132103</td> <td>27.0791    </td> <td>55.0598 </td> <td>4.23609     </td> <td>93.9648       </td> <td>-81       </td>\n",
              "        </tr>\n",
              "        <tr>\n",
              "            <td>Chicago</td> <td>2002    </td> <td>State & Garfield (SB)</td> <td>41.7949 </td> <td>-87.6259 </td> <td>2021-06-20 00:13:20</td> <td>4.06871</td> <td>nan           </td> <td>nan         </td> <td>nan          </td> <td>0.131126</td> <td>27.0791    </td> <td>55.0354 </td> <td>4.23641     </td> <td>93.9648       </td> <td>-80       </td>\n",
              "        </tr>\n",
              "        <tr>\n",
              "            <td>Chicago</td> <td>2002    </td> <td>State & Garfield (SB)</td> <td>41.7949 </td> <td>-87.6259 </td> <td>2021-06-20 00:18:30</td> <td>6.3517 </td> <td>nan           </td> <td>nan         </td> <td>nan          </td> <td>0.138784</td> <td>26.9456    </td> <td>54.6326 </td> <td>4.23609     </td> <td>93.8633       </td> <td>-82       </td>\n",
              "        </tr>\n",
              "        <tr>\n",
              "            <td>Chicago</td> <td>2002    </td> <td>State & Garfield (SB)</td> <td>41.7949 </td> <td>-87.6259 </td> <td>2021-06-20 00:23:40</td> <td>9.57407</td> <td>nan           </td> <td>nan         </td> <td>nan          </td> <td>0.41307 </td> <td>26.8281    </td> <td>53.9078 </td> <td>4.23594     </td> <td>93.8633       </td> <td>-81       </td>\n",
              "        </tr>\n",
              "        <tr>\n",
              "            <td>Chicago</td> <td>2002    </td> <td>State & Garfield (SB)</td> <td>41.7949 </td> <td>-87.6259 </td> <td>2021-06-20 00:28:50</td> <td>6.02794</td> <td>nan           </td> <td>nan         </td> <td>nan          </td> <td>0.157761</td> <td>26.7667    </td> <td>58.0338 </td> <td>4.23609     </td> <td>93.8633       </td> <td>-82       </td>\n",
              "        </tr>\n",
              "        <tr>\n",
              "            <td>Chicago</td> <td>2002    </td> <td>State & Garfield (SB)</td> <td>41.7949 </td> <td>-87.6259 </td> <td>2021-06-20 00:34:00</td> <td>3.61224</td> <td>nan           </td> <td>nan         </td> <td>nan          </td> <td>0.115831</td> <td>26.3367    </td> <td>56.1356 </td> <td>4.23625     </td> <td>93.8633       </td> <td>-81       </td>\n",
              "        </tr>\n",
              "        <tr>\n",
              "            <td>Chicago</td> <td>2002    </td> <td>State & Garfield (SB)</td> <td>41.7949 </td> <td>-87.6259 </td> <td>2021-06-20 00:39:10</td> <td>3.75591</td> <td>nan           </td> <td>nan         </td> <td>nan          </td> <td>0.122269</td> <td>26.2032    </td> <td>55.838  </td> <td>4.22625     </td> <td>93.8633       </td> <td>-81       </td>\n",
              "        </tr>\n",
              "        <tr>\n",
              "            <td>Chicago</td> <td>2002    </td> <td>State & Garfield (SB)</td> <td>41.7949 </td> <td>-87.6259 </td> <td>2021-06-20 00:44:20</td> <td>6.00689</td> <td>nan           </td> <td>nan         </td> <td>nan          </td> <td>0.184926</td> <td>26.1712    </td> <td>55.6427 </td> <td>4.23547     </td> <td>93.8633       </td> <td>-80       </td>\n",
              "        </tr>\n",
              "        <tr>\n",
              "            <td>Chicago</td> <td>2002    </td> <td>State & Garfield (SB)</td> <td>41.7949 </td> <td>-87.6259 </td> <td>2021-06-20 00:49:30</td> <td>8.50949</td> <td>nan           </td> <td>nan         </td> <td>nan          </td> <td>0.11234 </td> <td>26.2032    </td> <td>55.4581 </td> <td>4.23609     </td> <td>93.8633       </td> <td>-80       </td>\n",
              "        </tr>\n",
              "    </tbody>\n",
              "</table>\n",
              "<p>... (259052 rows omitted)</p>"
            ]
          },
          "metadata": {},
          "execution_count": 4
        }
      ]
    },
    {
      "cell_type": "markdown",
      "source": [
        "Cleaning Steps:\n",
        "\n",
        "Removing Duplicates: The distinct() method is used to drop duplicate rows.\n",
        "\n",
        "Filtering Missing Values: A helper function is_row_complete checks each row to ensure none of its values are empty strings, \"NA\", or None. Only rows that pass this check are retained.\n",
        "\n",
        "Optional Data Type Conversion: If any column needs to be converted (e.g., to a float), you can include that step as shown in the commented-out example.\n",
        "\n",
        "Run this code in your Colab notebook, and you'll have a merged and cleaned dataset ready for further analysis."
      ],
      "metadata": {
        "id": "OcRMGQwe3y2b"
      }
    },
    {
      "cell_type": "code",
      "source": [
        "# Clean the merged data\n",
        "# Remove duplicate rows\n",
        "merged_table = merged_table.distinct()\n",
        "\n",
        "# Define a function to filter out rows with missing values\n",
        "# (Here, missing values are assumed to be empty strings, 'NA', or None)\n",
        "def is_row_complete(row):\n",
        "    return all(val not in ['', 'NA', None] for val in row)\n",
        "\n",
        "# Remove rows that do not meet the criteria\n",
        "merged_table = merged_table.where(is_row_complete)\n",
        "\n",
        "# (Optional) Step 4: Convert columns to appropriate data types if needed.\n",
        "# For example, if you have a column 'value' that should be numeric:\n",
        "# merged_table = merged_table.with_column('value', [float(x) for x in merged_table.column('value')])\n",
        "\n",
        "# Display the cleaned, merged table\n",
        "print(\"Cleaned merged table:\")\n",
        "merged_table"
      ],
      "metadata": {
        "id": "0el3GS1j3tYI"
      },
      "execution_count": null,
      "outputs": []
    }
  ]
}